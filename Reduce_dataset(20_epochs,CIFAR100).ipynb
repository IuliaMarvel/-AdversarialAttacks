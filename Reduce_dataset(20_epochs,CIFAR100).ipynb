{
  "nbformat": 4,
  "nbformat_minor": 0,
  "metadata": {
    "colab": {
      "provenance": []
    },
    "kernelspec": {
      "name": "python3",
      "display_name": "Python 3"
    },
    "language_info": {
      "name": "python"
    },
    "accelerator": "GPU",
    "gpuClass": "standard",
    "widgets": {
      "application/vnd.jupyter.widget-state+json": {
        "5bb1dd4c79e847feafcd9c68cede26e2": {
          "model_module": "@jupyter-widgets/controls",
          "model_name": "HBoxModel",
          "model_module_version": "1.5.0",
          "state": {
            "_dom_classes": [],
            "_model_module": "@jupyter-widgets/controls",
            "_model_module_version": "1.5.0",
            "_model_name": "HBoxModel",
            "_view_count": null,
            "_view_module": "@jupyter-widgets/controls",
            "_view_module_version": "1.5.0",
            "_view_name": "HBoxView",
            "box_style": "",
            "children": [
              "IPY_MODEL_860dc44d9a8f45ad8f6d37c1cdf141c6",
              "IPY_MODEL_d8d0560e581f4cf8b4bdd1f4242bc973",
              "IPY_MODEL_073980c1e53c45a1878eef5ef55d6f86"
            ],
            "layout": "IPY_MODEL_a6a3ebe98dab471e8829f30d0cdc13fa"
          }
        },
        "860dc44d9a8f45ad8f6d37c1cdf141c6": {
          "model_module": "@jupyter-widgets/controls",
          "model_name": "HTMLModel",
          "model_module_version": "1.5.0",
          "state": {
            "_dom_classes": [],
            "_model_module": "@jupyter-widgets/controls",
            "_model_module_version": "1.5.0",
            "_model_name": "HTMLModel",
            "_view_count": null,
            "_view_module": "@jupyter-widgets/controls",
            "_view_module_version": "1.5.0",
            "_view_name": "HTMLView",
            "description": "",
            "description_tooltip": null,
            "layout": "IPY_MODEL_c83be978632b46758dd15b6587b42441",
            "placeholder": "​",
            "style": "IPY_MODEL_dff009832fca41bbb4146e14562a14d8",
            "value": "100%"
          }
        },
        "d8d0560e581f4cf8b4bdd1f4242bc973": {
          "model_module": "@jupyter-widgets/controls",
          "model_name": "FloatProgressModel",
          "model_module_version": "1.5.0",
          "state": {
            "_dom_classes": [],
            "_model_module": "@jupyter-widgets/controls",
            "_model_module_version": "1.5.0",
            "_model_name": "FloatProgressModel",
            "_view_count": null,
            "_view_module": "@jupyter-widgets/controls",
            "_view_module_version": "1.5.0",
            "_view_name": "ProgressView",
            "bar_style": "success",
            "description": "",
            "description_tooltip": null,
            "layout": "IPY_MODEL_308e1a8ca4cf482a923cf3c6f7f001f3",
            "max": 169001437,
            "min": 0,
            "orientation": "horizontal",
            "style": "IPY_MODEL_bcb7f3fbf10b43758cbd417a898f92d9",
            "value": 169001437
          }
        },
        "073980c1e53c45a1878eef5ef55d6f86": {
          "model_module": "@jupyter-widgets/controls",
          "model_name": "HTMLModel",
          "model_module_version": "1.5.0",
          "state": {
            "_dom_classes": [],
            "_model_module": "@jupyter-widgets/controls",
            "_model_module_version": "1.5.0",
            "_model_name": "HTMLModel",
            "_view_count": null,
            "_view_module": "@jupyter-widgets/controls",
            "_view_module_version": "1.5.0",
            "_view_name": "HTMLView",
            "description": "",
            "description_tooltip": null,
            "layout": "IPY_MODEL_629985568fc34295b127fd5f2e44deb4",
            "placeholder": "​",
            "style": "IPY_MODEL_b99ece09ebd94afda0cda503107dd19e",
            "value": " 169001437/169001437 [00:13&lt;00:00, 13046396.94it/s]"
          }
        },
        "a6a3ebe98dab471e8829f30d0cdc13fa": {
          "model_module": "@jupyter-widgets/base",
          "model_name": "LayoutModel",
          "model_module_version": "1.2.0",
          "state": {
            "_model_module": "@jupyter-widgets/base",
            "_model_module_version": "1.2.0",
            "_model_name": "LayoutModel",
            "_view_count": null,
            "_view_module": "@jupyter-widgets/base",
            "_view_module_version": "1.2.0",
            "_view_name": "LayoutView",
            "align_content": null,
            "align_items": null,
            "align_self": null,
            "border": null,
            "bottom": null,
            "display": null,
            "flex": null,
            "flex_flow": null,
            "grid_area": null,
            "grid_auto_columns": null,
            "grid_auto_flow": null,
            "grid_auto_rows": null,
            "grid_column": null,
            "grid_gap": null,
            "grid_row": null,
            "grid_template_areas": null,
            "grid_template_columns": null,
            "grid_template_rows": null,
            "height": null,
            "justify_content": null,
            "justify_items": null,
            "left": null,
            "margin": null,
            "max_height": null,
            "max_width": null,
            "min_height": null,
            "min_width": null,
            "object_fit": null,
            "object_position": null,
            "order": null,
            "overflow": null,
            "overflow_x": null,
            "overflow_y": null,
            "padding": null,
            "right": null,
            "top": null,
            "visibility": null,
            "width": null
          }
        },
        "c83be978632b46758dd15b6587b42441": {
          "model_module": "@jupyter-widgets/base",
          "model_name": "LayoutModel",
          "model_module_version": "1.2.0",
          "state": {
            "_model_module": "@jupyter-widgets/base",
            "_model_module_version": "1.2.0",
            "_model_name": "LayoutModel",
            "_view_count": null,
            "_view_module": "@jupyter-widgets/base",
            "_view_module_version": "1.2.0",
            "_view_name": "LayoutView",
            "align_content": null,
            "align_items": null,
            "align_self": null,
            "border": null,
            "bottom": null,
            "display": null,
            "flex": null,
            "flex_flow": null,
            "grid_area": null,
            "grid_auto_columns": null,
            "grid_auto_flow": null,
            "grid_auto_rows": null,
            "grid_column": null,
            "grid_gap": null,
            "grid_row": null,
            "grid_template_areas": null,
            "grid_template_columns": null,
            "grid_template_rows": null,
            "height": null,
            "justify_content": null,
            "justify_items": null,
            "left": null,
            "margin": null,
            "max_height": null,
            "max_width": null,
            "min_height": null,
            "min_width": null,
            "object_fit": null,
            "object_position": null,
            "order": null,
            "overflow": null,
            "overflow_x": null,
            "overflow_y": null,
            "padding": null,
            "right": null,
            "top": null,
            "visibility": null,
            "width": null
          }
        },
        "dff009832fca41bbb4146e14562a14d8": {
          "model_module": "@jupyter-widgets/controls",
          "model_name": "DescriptionStyleModel",
          "model_module_version": "1.5.0",
          "state": {
            "_model_module": "@jupyter-widgets/controls",
            "_model_module_version": "1.5.0",
            "_model_name": "DescriptionStyleModel",
            "_view_count": null,
            "_view_module": "@jupyter-widgets/base",
            "_view_module_version": "1.2.0",
            "_view_name": "StyleView",
            "description_width": ""
          }
        },
        "308e1a8ca4cf482a923cf3c6f7f001f3": {
          "model_module": "@jupyter-widgets/base",
          "model_name": "LayoutModel",
          "model_module_version": "1.2.0",
          "state": {
            "_model_module": "@jupyter-widgets/base",
            "_model_module_version": "1.2.0",
            "_model_name": "LayoutModel",
            "_view_count": null,
            "_view_module": "@jupyter-widgets/base",
            "_view_module_version": "1.2.0",
            "_view_name": "LayoutView",
            "align_content": null,
            "align_items": null,
            "align_self": null,
            "border": null,
            "bottom": null,
            "display": null,
            "flex": null,
            "flex_flow": null,
            "grid_area": null,
            "grid_auto_columns": null,
            "grid_auto_flow": null,
            "grid_auto_rows": null,
            "grid_column": null,
            "grid_gap": null,
            "grid_row": null,
            "grid_template_areas": null,
            "grid_template_columns": null,
            "grid_template_rows": null,
            "height": null,
            "justify_content": null,
            "justify_items": null,
            "left": null,
            "margin": null,
            "max_height": null,
            "max_width": null,
            "min_height": null,
            "min_width": null,
            "object_fit": null,
            "object_position": null,
            "order": null,
            "overflow": null,
            "overflow_x": null,
            "overflow_y": null,
            "padding": null,
            "right": null,
            "top": null,
            "visibility": null,
            "width": null
          }
        },
        "bcb7f3fbf10b43758cbd417a898f92d9": {
          "model_module": "@jupyter-widgets/controls",
          "model_name": "ProgressStyleModel",
          "model_module_version": "1.5.0",
          "state": {
            "_model_module": "@jupyter-widgets/controls",
            "_model_module_version": "1.5.0",
            "_model_name": "ProgressStyleModel",
            "_view_count": null,
            "_view_module": "@jupyter-widgets/base",
            "_view_module_version": "1.2.0",
            "_view_name": "StyleView",
            "bar_color": null,
            "description_width": ""
          }
        },
        "629985568fc34295b127fd5f2e44deb4": {
          "model_module": "@jupyter-widgets/base",
          "model_name": "LayoutModel",
          "model_module_version": "1.2.0",
          "state": {
            "_model_module": "@jupyter-widgets/base",
            "_model_module_version": "1.2.0",
            "_model_name": "LayoutModel",
            "_view_count": null,
            "_view_module": "@jupyter-widgets/base",
            "_view_module_version": "1.2.0",
            "_view_name": "LayoutView",
            "align_content": null,
            "align_items": null,
            "align_self": null,
            "border": null,
            "bottom": null,
            "display": null,
            "flex": null,
            "flex_flow": null,
            "grid_area": null,
            "grid_auto_columns": null,
            "grid_auto_flow": null,
            "grid_auto_rows": null,
            "grid_column": null,
            "grid_gap": null,
            "grid_row": null,
            "grid_template_areas": null,
            "grid_template_columns": null,
            "grid_template_rows": null,
            "height": null,
            "justify_content": null,
            "justify_items": null,
            "left": null,
            "margin": null,
            "max_height": null,
            "max_width": null,
            "min_height": null,
            "min_width": null,
            "object_fit": null,
            "object_position": null,
            "order": null,
            "overflow": null,
            "overflow_x": null,
            "overflow_y": null,
            "padding": null,
            "right": null,
            "top": null,
            "visibility": null,
            "width": null
          }
        },
        "b99ece09ebd94afda0cda503107dd19e": {
          "model_module": "@jupyter-widgets/controls",
          "model_name": "DescriptionStyleModel",
          "model_module_version": "1.5.0",
          "state": {
            "_model_module": "@jupyter-widgets/controls",
            "_model_module_version": "1.5.0",
            "_model_name": "DescriptionStyleModel",
            "_view_count": null,
            "_view_module": "@jupyter-widgets/base",
            "_view_module_version": "1.2.0",
            "_view_name": "StyleView",
            "description_width": ""
          }
        }
      }
    }
  },
  "cells": [
    {
      "cell_type": "markdown",
      "source": [
        "**Plan of the work:**\n",
        "\n",
        "1)take model\n",
        "\n",
        "2)take default CIFAR100 dataset\n",
        "\n",
        "3)for fixed n_epochs measure acc after adv training\n",
        "\n",
        "4)construct dataset from CIFAR100 with following changes:\n",
        "\n",
        "*   for easy classes - decrease at half their number in dataset \n",
        "\n",
        "5)for fixed n_epochs measure acc after adv training\n",
        "\n",
        "6)compare results from 3 and 5.\n",
        "\n",
        "\n",
        "\n"
      ],
      "metadata": {
        "id": "ysDITmoXqysQ"
      }
    },
    {
      "cell_type": "code",
      "source": [
        "import random\n",
        "import numpy as np\n",
        "import torch\n",
        "import torch.nn as nn\n",
        "import torch.nn.functional as F\n",
        "import os\n",
        "import pickle\n",
        "from torchvision import datasets, transforms\n",
        "from tqdm import tqdm\n",
        "from copy import deepcopy\n",
        "from collections import OrderedDict\n",
        "import matplotlib.pyplot as plt\n",
        "\n",
        "def set_seed(seed):\n",
        "    random.seed(seed)\n",
        "    np.random.seed(seed)\n",
        "\n",
        "    torch.manual_seed(seed)\n",
        "    torch.cuda.manual_seed_all(seed)"
      ],
      "metadata": {
        "id": "CXNd7vMrtImj"
      },
      "execution_count": 1,
      "outputs": []
    },
    {
      "cell_type": "code",
      "source": [
        "set_seed(42)"
      ],
      "metadata": {
        "id": "X4odzvjKwZYB"
      },
      "execution_count": 2,
      "outputs": []
    },
    {
      "cell_type": "markdown",
      "source": [
        "#Model"
      ],
      "metadata": {
        "id": "fHWmJm-utFPK"
      }
    },
    {
      "cell_type": "code",
      "execution_count": 3,
      "metadata": {
        "id": "nYUdqhh8J3xL"
      },
      "outputs": [],
      "source": [
        "class PreActBlock(nn.Module):\n",
        "    '''Pre-activation version of the BasicBlock.'''\n",
        "    expansion = 1\n",
        "\n",
        "    def __init__(self, in_planes, planes, stride=1):\n",
        "        super().__init__()\n",
        "        self.bn1 = nn.BatchNorm2d(in_planes)\n",
        "        self.conv1 = nn.Conv2d(in_planes, planes, kernel_size=3, stride=stride, padding=1, bias=False)\n",
        "        self.bn2 = nn.BatchNorm2d(planes)\n",
        "        self.conv2 = nn.Conv2d(planes, planes, kernel_size=3, stride=1, padding=1, bias=False)\n",
        "\n",
        "        if (stride != 1) or (in_planes != self.expansion * planes):\n",
        "            self.shortcut = nn.Sequential(\n",
        "                nn.Conv2d(in_planes, self.expansion * planes, kernel_size=1, stride=stride, bias=False)\n",
        "            )\n",
        "\n",
        "    def forward(self, x):\n",
        "        out = F.relu(self.bn1(x))\n",
        "        shortcut = self.shortcut(x) if hasattr(self, 'shortcut') else x\n",
        "        out = self.conv1(out)\n",
        "        out = self.conv2(F.relu(self.bn2(out)))\n",
        "        out += shortcut\n",
        "        return out\n",
        "\n",
        "\n",
        "class PreActBottleneck(nn.Module):\n",
        "    '''Pre-activation version of the original Bottleneck module.'''\n",
        "    expansion = 4\n",
        "\n",
        "    def __init__(self, in_planes, planes, stride=1):\n",
        "        super().__init__()\n",
        "        self.bn1 = nn.BatchNorm2d(in_planes)\n",
        "        self.conv1 = nn.Conv2d(in_planes, planes, kernel_size=1, bias=False)\n",
        "        self.bn2 = nn.BatchNorm2d(planes)\n",
        "        self.conv2 = nn.Conv2d(planes, planes, kernel_size=3, stride=stride, padding=1, bias=False)\n",
        "        self.bn3 = nn.BatchNorm2d(planes)\n",
        "        self.conv3 = nn.Conv2d(planes, self.expansion*planes, kernel_size=1, bias=False)\n",
        "\n",
        "        if (stride != 1) or (in_planes != self.expansion * planes):\n",
        "            self.shortcut = nn.Sequential(\n",
        "                nn.Conv2d(in_planes, self.expansion * planes, kernel_size=1, stride=stride, bias=False)\n",
        "            )\n",
        "\n",
        "    def forward(self, x):\n",
        "        out = F.relu(self.bn1(x))\n",
        "        shortcut = self.shortcut(out) if hasattr(self, 'shortcut') else x\n",
        "        out = self.conv1(out)\n",
        "        out = self.conv2(F.relu(self.bn2(out)))\n",
        "        out = self.conv3(F.relu(self.bn3(out)))\n",
        "        out += shortcut\n",
        "        return out\n",
        "\n",
        "\n",
        "class PreActResNet(nn.Module):\n",
        "    def __init__(self, block, num_blocks, num_classes=10):\n",
        "        super().__init__()\n",
        "        self.in_planes = 64\n",
        "        self.conv1 = nn.Conv2d(3, 64, kernel_size=3, stride=1, padding=1, bias=False)\n",
        "        self.layer1 = self._make_layer(block, 64, num_blocks[0], stride=1)\n",
        "        self.layer2 = self._make_layer(block, 128, num_blocks[1], stride=2)\n",
        "        self.layer3 = self._make_layer(block, 256, num_blocks[2], stride=2)\n",
        "        self.layer4 = self._make_layer(block, 512, num_blocks[3], stride=2)\n",
        "        self.bn = nn.BatchNorm2d(512 * block.expansion)\n",
        "        self.linear = nn.Linear(512 * block.expansion, num_classes)\n",
        "\n",
        "    def _make_layer(self, block, planes, num_blocks, stride):\n",
        "        strides = [stride] + [1] * (num_blocks - 1)\n",
        "        layers = []\n",
        "        for stride in strides:\n",
        "            layers.append(block(self.in_planes, planes, stride))\n",
        "            self.in_planes = planes * block.expansion\n",
        "        return nn.Sequential(*layers)\n",
        "\n",
        "    def forward(self, x):\n",
        "        out = self.conv1(x)\n",
        "        out = self.layer1(out)\n",
        "        out = self.layer2(out)\n",
        "        out = self.layer3(out)\n",
        "        out = self.layer4(out)\n",
        "        out = F.relu(self.bn(out))\n",
        "        out = F.avg_pool2d(out, 4)\n",
        "        out = out.view(out.size(0), -1)\n",
        "        out = self.linear(out)\n",
        "        return out\n",
        "\n",
        "\n",
        "def PreActResNet18(num_classes=10):\n",
        "    return PreActResNet(PreActBlock, [2, 2, 2, 2], num_classes)"
      ]
    },
    {
      "cell_type": "code",
      "execution_count": 4,
      "metadata": {
        "id": "CyktUXFJquhk"
      },
      "outputs": [],
      "source": [
        "def prepare_transforms(augments=[True, False]):\n",
        "    data_mean = (0.5071, 0.4865, 0.4409)\n",
        "    data_std = (0.2673, 0.2564, 0.2762)\n",
        "    # types of transform: with augmentation and without\n",
        "    transform_augmented = transforms.Compose([\n",
        "        transforms.RandomCrop(32, padding=4),\n",
        "        transforms.RandomHorizontalFlip(),\n",
        "        transforms.ToTensor(),\n",
        "        transforms.Normalize(data_mean, data_std)])\n",
        "    transform_clean = transforms.Compose([\n",
        "        transforms.ToTensor(),\n",
        "        transforms.Normalize(data_mean, data_std)])\n",
        "    # choose transform according func params\n",
        "    train_transform = transform_augmented if augments[0] else transform_clean\n",
        "    test_transform = transform_augmented if augments[1] else transform_clean\n",
        "\n",
        "    return train_transform, test_transform\n",
        "\n",
        "def get_loaders(data_dir='cifar-data', batch_size=32, augments=[True, False], shuffles=[True, False]):\n",
        "    train_transform, test_transform = prepare_transforms(augments)\n",
        "    train_dataset = datasets.CIFAR100(\n",
        "            data_dir, train=True, transform=train_transform, download=True)\n",
        "    test_dataset = datasets.CIFAR100(\n",
        "            data_dir, train=False, transform=test_transform, download=True)\n",
        "\n",
        "    train_loader = torch.utils.data.DataLoader(\n",
        "        dataset=train_dataset,\n",
        "        batch_size=batch_size, shuffle=shuffles[0],\n",
        "        pin_memory=True, num_workers=2)\n",
        "    test_loader = torch.utils.data.DataLoader(\n",
        "        dataset=test_dataset,\n",
        "        batch_size=batch_size, shuffle=shuffles[1],\n",
        "        pin_memory=True, num_workers=2)\n",
        "\n",
        "    return train_loader, test_loader"
      ]
    },
    {
      "cell_type": "code",
      "source": [
        "device = 'cuda' if torch.cuda.is_available() else 'cpu'\n",
        "\n",
        "model = PreActResNet18(num_classes=100).to(device)\n",
        "\n",
        "print()"
      ],
      "metadata": {
        "id": "W_k8cGwEthFt",
        "colab": {
          "base_uri": "https://localhost:8080/"
        },
        "outputId": "7666df70-e232-41f5-ce5d-7350a22405e8"
      },
      "execution_count": 5,
      "outputs": [
        {
          "output_type": "stream",
          "name": "stdout",
          "text": [
            "\n"
          ]
        }
      ]
    },
    {
      "cell_type": "markdown",
      "source": [
        "#Adv training on default dataset"
      ],
      "metadata": {
        "id": "oH_xsk8xvcJb"
      }
    },
    {
      "cell_type": "code",
      "source": [
        "weight_decay = 5e-4\n",
        "epsilon = 8\n",
        "batch_size = 32\n",
        "alpha = 2\n",
        "loss_weight = 0.3\n",
        "fgsm_step = 1\n",
        "delta_init = 'random'\n",
        "train_loader, test_loader = get_loaders(augments=[False,False])\n",
        "model = PreActResNet18(num_classes=100).to(device)\n",
        "model.train()\n",
        "\n",
        "optimizer = torch.optim.Adam(model.parameters(),lr=3e-4,weight_decay=weight_decay)\n",
        "scaler = torch.cuda.amp.GradScaler()\n",
        "criterion = nn.CrossEntropyLoss()\n",
        "\n",
        "data_mean = (0.5071, 0.4865, 0.4409)\n",
        "data_std = (0.2673, 0.2564, 0.2762)\n",
        "\n",
        "mu = torch.tensor(data_mean).view(3, 1, 1).to(device)\n",
        "std = torch.tensor(data_std).view(3, 1, 1).to(device)\n",
        "upper_limit = ((1 - mu) / std)\n",
        "lower_limit = ((0 - mu) / std)\n",
        "epsilon = (epsilon / 255.) / std\n",
        "alpha = (alpha / 255.) / std\n",
        "\n",
        "if delta_init == 'previous':\n",
        "    delta = torch.zeros(batch_size, 3, 32, 32).to(device)\n",
        "\n",
        "prev_robust_acc = 0."
      ],
      "metadata": {
        "colab": {
          "base_uri": "https://localhost:8080/",
          "height": 101,
          "referenced_widgets": [
            "5bb1dd4c79e847feafcd9c68cede26e2",
            "860dc44d9a8f45ad8f6d37c1cdf141c6",
            "d8d0560e581f4cf8b4bdd1f4242bc973",
            "073980c1e53c45a1878eef5ef55d6f86",
            "a6a3ebe98dab471e8829f30d0cdc13fa",
            "c83be978632b46758dd15b6587b42441",
            "dff009832fca41bbb4146e14562a14d8",
            "308e1a8ca4cf482a923cf3c6f7f001f3",
            "bcb7f3fbf10b43758cbd417a898f92d9",
            "629985568fc34295b127fd5f2e44deb4",
            "b99ece09ebd94afda0cda503107dd19e"
          ]
        },
        "id": "ya3GzA8-Uoih",
        "outputId": "a7bb434f-e089-41ff-fb8b-05eeeabffd8e"
      },
      "execution_count": 6,
      "outputs": [
        {
          "output_type": "stream",
          "name": "stdout",
          "text": [
            "Downloading https://www.cs.toronto.edu/~kriz/cifar-100-python.tar.gz to cifar-data/cifar-100-python.tar.gz\n"
          ]
        },
        {
          "output_type": "display_data",
          "data": {
            "text/plain": [
              "  0%|          | 0/169001437 [00:00<?, ?it/s]"
            ],
            "application/vnd.jupyter.widget-view+json": {
              "version_major": 2,
              "version_minor": 0,
              "model_id": "5bb1dd4c79e847feafcd9c68cede26e2"
            }
          },
          "metadata": {}
        },
        {
          "output_type": "stream",
          "name": "stdout",
          "text": [
            "Extracting cifar-data/cifar-100-python.tar.gz to cifar-data\n",
            "Files already downloaded and verified\n"
          ]
        }
      ]
    },
    {
      "cell_type": "code",
      "source": [
        "def clamp(X, lower_limit, upper_limit):\n",
        "    return torch.max(torch.min(X, upper_limit), lower_limit)"
      ],
      "metadata": {
        "id": "yeuDyKOdvtqK"
      },
      "execution_count": 7,
      "outputs": []
    },
    {
      "cell_type": "code",
      "source": [
        "NUM_CLASSES = 100\n",
        "\n",
        "def attack_pgd(model, X, y, epsilon, alpha, attack_iters, restarts, lower_limit, upper_limit, args=None):\n",
        "    max_loss = torch.zeros(y.shape[0]).to(device)\n",
        "    max_delta = torch.zeros_like(X).to(device)\n",
        "    scaler = torch.cuda.amp.GradScaler()\n",
        "    for _ in range(restarts):\n",
        "        delta = torch.zeros_like(X).to(device)\n",
        "        for i in range(len(epsilon)):\n",
        "            delta[:, i, :, :].uniform_(-epsilon[i][0][0].item(), epsilon[i][0][0].item())\n",
        "        delta.data = clamp(delta, lower_limit - X, upper_limit - X)\n",
        "        delta.requires_grad = True\n",
        "        for _ in range(attack_iters):\n",
        "            with torch.cuda.amp.autocast():\n",
        "                output = model(X + delta)\n",
        "                index = torch.where(output.max(1)[1] == y)[0]\n",
        "                if len(index) == 0:\n",
        "                    break\n",
        "                loss = F.cross_entropy(output, y)\n",
        "            scaler.scale(loss).backward()\n",
        "            grad = delta.grad.detach()\n",
        "            d = delta[index, :, :, :]\n",
        "            g = grad[index, :, :, :]\n",
        "            d = clamp(d + alpha * torch.sign(g), -epsilon, epsilon)\n",
        "            d = clamp(d, lower_limit - X[index, :, :, :], upper_limit - X[index, :, :, :])\n",
        "            delta.data[index, :, :, :] = d\n",
        "            delta.grad.zero_()\n",
        "\n",
        "        all_loss = F.cross_entropy(model(X + delta), y, reduction='none').detach()\n",
        "        max_delta[all_loss >= max_loss] = delta.detach()[all_loss >= max_loss]\n",
        "        max_loss = torch.max(max_loss, all_loss)\n",
        "\n",
        "    return max_delta\n",
        "\n",
        "\n",
        "def evaluate_pgd(test_loader, model, attack_iters, restarts, epsilon, alpha, lower_limit, upper_limit, args=None):\n",
        "\n",
        "    examples_per_class = {i : 0 for i in range(NUM_CLASSES)}\n",
        "    correct_per_class = {i : 0 for i in range(NUM_CLASSES)}\n",
        "\n",
        "    pgd_loss, pgd_acc = 0, 0\n",
        "    n = 0\n",
        "    model.eval()\n",
        "    for i, (X, y) in enumerate(test_loader):\n",
        "        X, y = X.to(device), y.to(device)\n",
        "        pgd_delta = attack_pgd(model, X, y, epsilon, alpha, attack_iters, restarts, lower_limit, upper_limit, args=args)\n",
        "        with torch.no_grad():\n",
        "            output = model(X + pgd_delta)\n",
        "            preds = output.max(1)[1]\n",
        "            for i in range(NUM_CLASSES):\n",
        "                examples_per_class[i] += len(y[y==i])\n",
        "                correct_per_class[i] += (preds[y==i] == i).sum().item()\n",
        "            loss = F.cross_entropy(output, y)\n",
        "            pgd_loss += loss.item() * y.size(0)\n",
        "            pgd_acc += (output.max(1)[1] == y).sum().item()\n",
        "            n += y.size(0)\n",
        "        acc_per_class = {}\n",
        "    for i in range(NUM_CLASSES):\n",
        "        acc_per_class[i] = correct_per_class[i] / examples_per_class[i]\n",
        "    return pgd_loss/n, pgd_acc/n,acc_per_class\n",
        "\n",
        "\n",
        "def evaluate_standard(test_loader, model, args=None):\n",
        "    \n",
        "    examples_per_class = {i : 0 for i in range(NUM_CLASSES)}\n",
        "    correct_per_class = {i : 0 for i in range(NUM_CLASSES)}\n",
        "    \n",
        "    test_loss, test_acc = 0, 0\n",
        "    n = 0\n",
        "    model.eval()\n",
        "    with torch.no_grad():\n",
        "        for X, y in test_loader:\n",
        "            X, y = X.to(device), y.to(device)\n",
        "            output = model(X)\n",
        "            preds = output.max(1)[1]\n",
        "            for i in range(NUM_CLASSES):\n",
        "                examples_per_class[i] += len(y[y==i])\n",
        "                correct_per_class[i] += (preds[y==i] == i).sum().item()\n",
        "            loss = F.cross_entropy(output, y)\n",
        "            test_loss += loss.item() * y.size(0)\n",
        "            test_acc += (output.max(1)[1] == y).sum().item()\n",
        "            n += y.size(0)\n",
        "    acc_per_class = {}\n",
        "    for i in range(NUM_CLASSES):\n",
        "        acc_per_class[i] = correct_per_class[i] / examples_per_class[i]\n",
        "    return test_loss/n, test_acc/n,acc_per_class\n"
      ],
      "metadata": {
        "id": "y5wakhKAsHnq"
      },
      "execution_count": 8,
      "outputs": []
    },
    {
      "cell_type": "code",
      "source": [
        "epochs = 20"
      ],
      "metadata": {
        "id": "7CbuxJXvPgKI"
      },
      "execution_count": 9,
      "outputs": []
    },
    {
      "cell_type": "code",
      "source": [
        "acc_train_history = []\n",
        "acc_pgd_val_history = []\n",
        "acc_st_val_history = []"
      ],
      "metadata": {
        "id": "CL_yX3ygP2H9"
      },
      "execution_count": 10,
      "outputs": []
    },
    {
      "cell_type": "code",
      "source": [
        "optimizer = torch.optim.Adam(model.parameters(),lr=3e-4,weight_decay=weight_decay)\n",
        "loop = tqdm(range(epochs))\n",
        "for epoch in loop:\n",
        "    train_loss,train_acc,train_n = 0,0,0\n",
        "    if epoch > 12:\n",
        "      optimizer.param_groups[0]['lr'] = 1e-4\n",
        "    model.train()\n",
        "    for i, (X, y) in enumerate(train_loader):\n",
        "        optimizer.zero_grad()\n",
        "        X, y = X.to(device), y.to(device)\n",
        "        if delta_init != 'previous':\n",
        "            delta = torch.zeros_like(X).to(device)\n",
        "        if delta_init == 'random':\n",
        "            for j in range(len(epsilon)):\n",
        "                delta[:, j, :, :].uniform_(-epsilon[j][0][0].item(), epsilon[j][0][0].item())\n",
        "            delta.data = clamp(delta, lower_limit - X, upper_limit - X)\n",
        "        if fgsm_step == 1:\n",
        "            delta.requires_grad = True\n",
        "            for _ in range(1):\n",
        "                output = model(X + delta[:X.size(0)])\n",
        "                loss = F.cross_entropy(output, y)\n",
        "                scaler.scale(loss).backward()\n",
        "                grad = delta.grad.detach()\n",
        "                scaler.step(optimizer)\n",
        "                scaler.update()\n",
        "                delta.data = clamp(delta + alpha * torch.sign(grad), -epsilon, epsilon)\n",
        "                delta.data[:X.size(0)] = clamp(delta[:X.size(0)], lower_limit - X, upper_limit - X)\n",
        "            delta = delta.detach()\n",
        "            output = model(X + delta[:X.size(0)])\n",
        "            loss = (1 - loss_weight) * criterion(output, y) + loss_weight * criterion(model(X), y)\n",
        "            scaler.scale(loss).backward()\n",
        "            scaler.step(optimizer)\n",
        "            scaler.update()\n",
        "            \n",
        "        train_loss += loss.item() * y.size(0)\n",
        "        train_acc += (output.max(1)[1] == y).sum().item()\n",
        "        train_n += y.size(0)\n",
        "      \n",
        "    acc_train_history.append(train_acc)\n",
        "    model.eval()\n",
        "    pgd_loss, pgd_acc, acc_cl_pgd_at = evaluate_pgd(test_loader, model, 1, 5, epsilon, alpha, \n",
        "                                  lower_limit, upper_limit)\n",
        "    acc_pgd_val_history.append(pgd_acc)\n",
        "    st_loss, st_acc, acc_cl_st_at = evaluate_standard(test_loader, model)\n",
        "    acc_st_val_history.append(st_acc)\n",
        "      \n",
        "    loop.set_description(f'train acc: {round(train_acc / train_n,3)} test acc: {pgd_acc}')"
      ],
      "metadata": {
        "colab": {
          "base_uri": "https://localhost:8080/"
        },
        "id": "nAO5xFY4QlL2",
        "outputId": "f1a9089e-7ede-4a62-cd45-41f610270916"
      },
      "execution_count": null,
      "outputs": [
        {
          "output_type": "stream",
          "name": "stderr",
          "text": [
            "train acc: 0.82 test acc: 0.2771: 100%|██████████| 20/20 [1:09:44<00:00, 209.23s/it]\n"
          ]
        }
      ]
    },
    {
      "cell_type": "code",
      "source": [
        "print(acc_train_history)\n",
        "print(acc_pgd_val_history)\n",
        "print(acc_st_val_history)"
      ],
      "metadata": {
        "colab": {
          "base_uri": "https://localhost:8080/"
        },
        "id": "00HKbyO3Ruke",
        "outputId": "5ebdbb85-e031-475d-fbfc-923b77fc3785"
      },
      "execution_count": null,
      "outputs": [
        {
          "output_type": "stream",
          "name": "stdout",
          "text": [
            "[7320, 10957, 15069, 16454, 17540, 18641, 19516, 20406, 21108, 21821, 22596, 23383, 24012, 24933, 25291, 32904, 36209, 37900, 39083, 39918, 40578, 40980]\n",
            "[0.1697, 0.2276, 0.2739, 0.2879, 0.3045, 0.2839, 0.3182, 0.3153, 0.3128, 0.3165, 0.3139, 0.3012, 0.3022, 0.2869, 0.2852, 0.3021, 0.2972, 0.2908, 0.2912, 0.2847, 0.2785, 0.2771]\n",
            "[0.3546, 0.451, 0.471, 0.506, 0.5022, 0.5383, 0.5416, 0.5398, 0.5608, 0.5707, 0.5696, 0.5588, 0.5614, 0.5512, 0.5916, 0.5859, 0.5772, 0.5759, 0.5725, 0.5737, 0.5637]\n"
          ]
        }
      ]
    },
    {
      "cell_type": "code",
      "source": [
        "train_n = 0\n",
        "for _,y in train_loader:\n",
        "  train_n += len(y)\n",
        "\n",
        "train_n"
      ],
      "metadata": {
        "colab": {
          "base_uri": "https://localhost:8080/"
        },
        "id": "llFB8dpHmjTO",
        "outputId": "85d3d11c-4da8-4b58-877b-e3d861ba7703"
      },
      "execution_count": null,
      "outputs": [
        {
          "output_type": "execute_result",
          "data": {
            "text/plain": [
              "50000"
            ]
          },
          "metadata": {},
          "execution_count": 30
        }
      ]
    },
    {
      "cell_type": "code",
      "source": [
        "fig,axes = plt.subplots(1,3,figsize=(15,5))\n",
        "\n",
        "plt.suptitle('Accuracy')\n",
        "\n",
        "axes[0].plot(range(epochs),np.array(acc_train_history[2:])/train_n,label='train')\n",
        "axes[0].legend()\n",
        "axes[1].plot(range(epochs),acc_pgd_val_history[2:],label='val pgd')\n",
        "axes[1].legend()\n",
        "axes[2].plot(range(epochs),acc_st_val_history[1:],label='val standart')\n",
        "axes[2].legend()"
      ],
      "metadata": {
        "colab": {
          "base_uri": "https://localhost:8080/",
          "height": 373
        },
        "id": "FkKY74D4ldZL",
        "outputId": "8456fbe7-acc5-43f6-81aa-694fd46b8955"
      },
      "execution_count": null,
      "outputs": [
        {
          "output_type": "execute_result",
          "data": {
            "text/plain": [
              "<matplotlib.legend.Legend at 0x7f45201c32e0>"
            ]
          },
          "metadata": {},
          "execution_count": 39
        },
        {
          "output_type": "display_data",
          "data": {
            "text/plain": [
              "<Figure size 1080x360 with 3 Axes>"
            ],
            "image/png": "[encoded data removed]"
          },
          "metadata": {
            "needs_background": "light"
          }
        }
      ]
    },
    {
      "cell_type": "code",
      "source": [
        "best_state_dict_at = model.state_dict()\n",
        "\n",
        "torch.save(best_state_dict_at,'model_default_at33.pth')"
      ],
      "metadata": {
        "id": "eN2BRzVP6xMF"
      },
      "execution_count": null,
      "outputs": []
    },
    {
      "cell_type": "code",
      "source": [
        "# Evaluation\n",
        "model_at = PreActResNet18(num_classes=100).to(device)\n",
        "#model_at.load_state_dict(best_state_dict_at)\n",
        "model_at.load_state_dict(torch.load('model_default_at33.pth'))\n",
        "model_at.float()\n",
        "model_at.eval()\n",
        "\n",
        "\n",
        "pgd_loss, pgd_acc, acc_cl_pgd_at1 = evaluate_pgd(test_loader, model_at, 1, 5, epsilon, alpha, \n",
        "                                  lower_limit, upper_limit)\n",
        "print(pgd_acc)\n",
        "test_loss, test_acc, acc_cl_standart_at1 = evaluate_standard(test_loader, model_at)\n",
        "print(test_acc)"
      ],
      "metadata": {
        "colab": {
          "base_uri": "https://localhost:8080/"
        },
        "id": "Ve6eV7XqUjz7",
        "outputId": "8acf214b-dee8-4122-ce34-6180ce35f565"
      },
      "execution_count": null,
      "outputs": [
        {
          "output_type": "stream",
          "name": "stdout",
          "text": [
            "0.3392\n"
          ]
        },
        {
          "output_type": "stream",
          "name": "stderr",
          "text": [
            "100%|██████████| 313/313 [00:09<00:00, 34.07it/s]"
          ]
        },
        {
          "output_type": "stream",
          "name": "stdout",
          "text": [
            "0.5474\n"
          ]
        },
        {
          "output_type": "stream",
          "name": "stderr",
          "text": [
            "\n"
          ]
        }
      ]
    },
    {
      "cell_type": "markdown",
      "source": [
        "#Accuracy and PpC\n",
        "\n",
        "After 7 epochs - 34%"
      ],
      "metadata": {
        "id": "zOoliTQzOV7f"
      }
    },
    {
      "cell_type": "code",
      "source": [
        "for_plot = list(acc_cl_pgd_at1.values())\n",
        "\n",
        "plt.plot(range(100),for_plot)"
      ],
      "metadata": {
        "id": "kl4SgQND63En",
        "colab": {
          "base_uri": "https://localhost:8080/",
          "height": 284
        },
        "outputId": "279a1ece-1093-4738-f659-5182484bbc06"
      },
      "execution_count": null,
      "outputs": [
        {
          "output_type": "execute_result",
          "data": {
            "text/plain": [
              "[<matplotlib.lines.Line2D at 0x7efed9980670>]"
            ]
          },
          "metadata": {},
          "execution_count": 50
        },
        {
          "output_type": "display_data",
          "data": {
            "text/plain": [
              "<Figure size 432x288 with 1 Axes>"
            ],
            "image/png": "[encoded data removed]"
          },
          "metadata": {
            "needs_background": "light"
          }
        }
      ]
    },
    {
      "cell_type": "markdown",
      "source": [
        "# Construct modified dataset"
      ],
      "metadata": {
        "id": "udOeDYvwO1vV"
      }
    },
    {
      "cell_type": "code",
      "source": [
        "hard_classes = [13,35,55,72,96,10,44,65,74,4]\n",
        "easy_classes = [8,9,20,87,94,21,41,39,53,68]"
      ],
      "metadata": {
        "id": "j8Uo0gMGRzO1"
      },
      "execution_count": 11,
      "outputs": []
    },
    {
      "cell_type": "code",
      "source": [
        "data_dir='cifar-data'\n",
        "batch_size=32\n",
        "augments=[True, False]\n",
        "shuffles=[True, False]\n",
        "train_transform, test_transform = prepare_transforms(augments)\n",
        "train_dataset = datasets.CIFAR100(data_dir, train=True, transform=train_transform, download=True)\n",
        "test_dataset = datasets.CIFAR100(data_dir, train=False, transform=test_transform, download=True)\n",
        "\n",
        "\n",
        "test_loader = torch.utils.data.DataLoader(\n",
        "    dataset=test_dataset,\n",
        "    batch_size=batch_size, shuffle=shuffles[1],\n",
        "    pin_memory=True, num_workers=2)"
      ],
      "metadata": {
        "colab": {
          "base_uri": "https://localhost:8080/"
        },
        "id": "H59YqWHkPc8v",
        "outputId": "01f9229f-d733-4108-ae0c-fb30ff42662a"
      },
      "execution_count": 12,
      "outputs": [
        {
          "output_type": "stream",
          "name": "stdout",
          "text": [
            "Files already downloaded and verified\n",
            "Files already downloaded and verified\n"
          ]
        }
      ]
    },
    {
      "cell_type": "code",
      "source": [
        "train_transform, test_transform = prepare_transforms(augments=[False,False])\n",
        "\n",
        "train_dataset = datasets.CIFAR100(data_dir, train=True, transform=train_transform, download=True)\n",
        "test_dataset = datasets.CIFAR100(data_dir, train=False, transform=test_transform, download=True)\n",
        "X_all,y_all = train_dataset.data, torch.LongTensor(train_dataset.targets)\n",
        "\n",
        "X_all_sampled, y_all_sampled = [], []\n",
        "\n",
        "for c in torch.unique(y_all):\n",
        "    X_all_c, y_all_c = X_all[y_all==c], y_all[y_all==c]\n",
        "    \n",
        "    if c in easy_classes:\n",
        "        num_samples = len(X_all_c)\n",
        "        sampled_indices = torch.randperm(num_samples)[:num_samples//2]\n",
        "        X_all_sampled.append(X_all_c[sampled_indices])\n",
        "        y_all_sampled.append(y_all_c[sampled_indices]) \n",
        "\n",
        "    else:\n",
        "        num_samples = len(X_all_c)\n",
        "        sampled_indices = torch.randperm(num_samples)\n",
        "        X_all_sampled.append(X_all_c[sampled_indices])\n",
        "        y_all_sampled.append(y_all_c[sampled_indices]) \n",
        "    \n",
        "X_all_sampled = np.concatenate(X_all_sampled, axis=0)\n",
        "y_all_sampled = list(torch.cat(y_all_sampled, dim=0).numpy())\n",
        "\n",
        "X_all_sampled.shape"
      ],
      "metadata": {
        "colab": {
          "base_uri": "https://localhost:8080/"
        },
        "id": "4EtYyOoIRvin",
        "outputId": "9faec019-0420-4003-aa00-1bc2e4a485b8"
      },
      "execution_count": 13,
      "outputs": [
        {
          "output_type": "stream",
          "name": "stdout",
          "text": [
            "Files already downloaded and verified\n",
            "Files already downloaded and verified\n"
          ]
        },
        {
          "output_type": "execute_result",
          "data": {
            "text/plain": [
              "(47500, 32, 32, 3)"
            ]
          },
          "metadata": {},
          "execution_count": 13
        }
      ]
    },
    {
      "cell_type": "code",
      "source": [
        "def get_train_loader(data_dir, X, y, batch_size, augment=True, shuffle=True, args=None):\n",
        "\n",
        "    train_transform, _ = prepare_transforms([augment, False])\n",
        "    train_dataset = datasets.CIFAR100(\n",
        "            data_dir, train=True, transform=train_transform, download=True\n",
        "        ) # we don't care what data here, we made it for getting appropriate transform\n",
        "    train_dataset.data = X\n",
        "    train_dataset.targets = y\n",
        "\n",
        "    train_loader = torch.utils.data.DataLoader(\n",
        "        dataset=train_dataset,\n",
        "        batch_size=batch_size, shuffle=shuffle,\n",
        "        pin_memory=True, num_workers=2,\n",
        "    )\n",
        "    return train_loader"
      ],
      "metadata": {
        "id": "c0JUE3eHSN1L"
      },
      "execution_count": 14,
      "outputs": []
    },
    {
      "cell_type": "code",
      "source": [
        "train_loader = get_train_loader(data_dir, X_all_sampled, y_all_sampled,\n",
        "                    batch_size, augment=False, shuffle=True)"
      ],
      "metadata": {
        "colab": {
          "base_uri": "https://localhost:8080/"
        },
        "id": "eYNBhWOzSPdB",
        "outputId": "9f308ec7-abbf-44d3-d659-867093a24966"
      },
      "execution_count": 15,
      "outputs": [
        {
          "output_type": "stream",
          "name": "stdout",
          "text": [
            "Files already downloaded and verified\n"
          ]
        }
      ]
    },
    {
      "cell_type": "markdown",
      "source": [
        "# Adv training on modified dataset"
      ],
      "metadata": {
        "id": "8bDJD1jigIDL"
      }
    },
    {
      "cell_type": "code",
      "source": [
        "weight_decay = 5e-4\n",
        "epsilon = 8\n",
        "batch_size = 32\n",
        "alpha = 2\n",
        "loss_weight = 0.3\n",
        "fgsm_step = 1\n",
        "delta_init = 'random'\n",
        "model = PreActResNet18(num_classes=100).to(device)\n",
        "model.train()\n",
        "\n",
        "optimizer = torch.optim.Adam(model.parameters(),lr=3e-4,weight_decay=weight_decay)\n",
        "scaler = torch.cuda.amp.GradScaler()\n",
        "criterion = nn.CrossEntropyLoss()\n",
        "\n",
        "data_mean = (0.5071, 0.4865, 0.4409)\n",
        "data_std = (0.2673, 0.2564, 0.2762)\n",
        "\n",
        "mu = torch.tensor(data_mean).view(3, 1, 1).to(device)\n",
        "std = torch.tensor(data_std).view(3, 1, 1).to(device)\n",
        "upper_limit = ((1 - mu) / std)\n",
        "lower_limit = ((0 - mu) / std)\n",
        "epsilon = (epsilon / 255.) / std\n",
        "alpha = (alpha / 255.) / std\n",
        "\n",
        "if delta_init == 'previous':\n",
        "    delta = torch.zeros(batch_size, 3, 32, 32).to(device)\n",
        "\n",
        "prev_robust_acc = 0."
      ],
      "metadata": {
        "id": "Y3mFyDyxo90B"
      },
      "execution_count": 16,
      "outputs": []
    },
    {
      "cell_type": "code",
      "source": [
        "acc_train_history = []\n",
        "acc_pgd_val_history = []\n",
        "acc_st_val_history = []"
      ],
      "metadata": {
        "id": "HeJToT7Pow-n"
      },
      "execution_count": 17,
      "outputs": []
    },
    {
      "cell_type": "code",
      "source": [
        "optimizer = torch.optim.Adam(model.parameters(),lr=3e-4,weight_decay=weight_decay)\n",
        "loop = tqdm(range(epochs))\n",
        "for epoch in loop:\n",
        "    train_loss,train_acc,train_n = 0,0,0\n",
        "    if epoch > 12:\n",
        "      optimizer.param_groups[0]['lr'] = 1e-4\n",
        "    model.train()\n",
        "    for i, (X, y) in enumerate(train_loader):\n",
        "        optimizer.zero_grad()\n",
        "        X, y = X.to(device), y.to(device)\n",
        "        if delta_init != 'previous':\n",
        "            delta = torch.zeros_like(X).to(device)\n",
        "        if delta_init == 'random':\n",
        "            for j in range(len(epsilon)):\n",
        "                delta[:, j, :, :].uniform_(-epsilon[j][0][0].item(), epsilon[j][0][0].item())\n",
        "            delta.data = clamp(delta, lower_limit - X, upper_limit - X)\n",
        "        if fgsm_step == 1:\n",
        "            delta.requires_grad = True\n",
        "            for _ in range(1):\n",
        "                output = model(X + delta[:X.size(0)])\n",
        "                loss = F.cross_entropy(output, y)\n",
        "                scaler.scale(loss).backward()\n",
        "                grad = delta.grad.detach()\n",
        "                scaler.step(optimizer)\n",
        "                scaler.update()\n",
        "                delta.data = clamp(delta + alpha * torch.sign(grad), -epsilon, epsilon)\n",
        "                delta.data[:X.size(0)] = clamp(delta[:X.size(0)], lower_limit - X, upper_limit - X)\n",
        "            delta = delta.detach()\n",
        "            output = model(X + delta[:X.size(0)])\n",
        "            loss = (1 - loss_weight) * criterion(output, y) + loss_weight * criterion(model(X), y)\n",
        "            scaler.scale(loss).backward()\n",
        "            scaler.step(optimizer)\n",
        "            scaler.update()\n",
        "            \n",
        "        train_loss += loss.item() * y.size(0)\n",
        "        train_acc += (output.max(1)[1] == y).sum().item()\n",
        "        train_n += y.size(0)\n",
        "      \n",
        "    acc_train_history.append(train_acc/train_n)\n",
        "    model.eval()\n",
        "    pgd_loss, pgd_acc, acc_cl_pgd_at = evaluate_pgd(test_loader, model, 1, 5, epsilon, alpha, \n",
        "                                  lower_limit, upper_limit)\n",
        "    acc_pgd_val_history.append(pgd_acc)\n",
        "    st_loss, st_acc, acc_cl_st_at = evaluate_standard(test_loader, model)\n",
        "    acc_st_val_history.append(st_acc)\n",
        "      \n",
        "    loop.set_description(f'train acc: {round(train_acc / train_n,3)} test acc: {pgd_acc}')"
      ],
      "metadata": {
        "colab": {
          "base_uri": "https://localhost:8080/"
        },
        "id": "9MiF9t4Col78",
        "outputId": "33688425-7bfb-4375-9fbd-f7a02639ae3b"
      },
      "execution_count": 18,
      "outputs": [
        {
          "output_type": "stream",
          "name": "stderr",
          "text": [
            "train acc: 0.787 test acc: 0.2762: 100%|██████████| 20/20 [1:07:59<00:00, 203.95s/it]\n"
          ]
        }
      ]
    },
    {
      "cell_type": "code",
      "source": [
        "print(acc_train_history)\n",
        "print(acc_pgd_val_history)\n",
        "print(acc_st_val_history)"
      ],
      "metadata": {
        "id": "Nr26uqI-pUi4",
        "colab": {
          "base_uri": "https://localhost:8080/"
        },
        "outputId": "55f64375-f41a-43d4-95a9-abb0d22c92d6"
      },
      "execution_count": 19,
      "outputs": [
        {
          "output_type": "stream",
          "name": "stdout",
          "text": [
            "[0.10442105263157894, 0.17802105263157894, 0.2364842105263158, 0.27957894736842104, 0.31101052631578946, 0.3351578947368421, 0.3583789473684211, 0.37886315789473685, 0.3948, 0.4105473684210526, 0.42898947368421053, 0.44303157894736844, 0.4617263157894737, 0.5958315789473684, 0.6598736842105263, 0.6994315789473684, 0.7293263157894737, 0.7556842105263157, 0.7745473684210527, 0.7874736842105263]\n",
            "[0.1243, 0.1874, 0.2326, 0.269, 0.2862, 0.2987, 0.31, 0.3041, 0.3167, 0.2966, 0.3066, 0.2956, 0.2994, 0.3186, 0.2976, 0.2893, 0.2754, 0.2796, 0.2696, 0.2762]\n",
            "[0.1793, 0.2971, 0.3741, 0.4381, 0.474, 0.4975, 0.5172, 0.5198, 0.5343, 0.5346, 0.5387, 0.5403, 0.5481, 0.5908, 0.5812, 0.5688, 0.5652, 0.5653, 0.556, 0.5506]\n"
          ]
        }
      ]
    },
    {
      "cell_type": "code",
      "source": [
        "fig,axes = plt.subplots(1,3,figsize=(15,5))\n",
        "\n",
        "plt.suptitle('Accuracy')\n",
        "\n",
        "fig.supxlabel('epoch')\n",
        "fig.supylabel('acc')\n",
        "\n",
        "axes[0].plot(range(epochs),acc_train_history,label='train')\n",
        "axes[0].legend()\n",
        "axes[1].plot(range(epochs),acc_pgd_val_history,label='val pgd')\n",
        "axes[1].legend()\n",
        "axes[2].plot(range(epochs),acc_st_val_history,label='val standart')\n",
        "axes[2].legend()\n"
      ],
      "metadata": {
        "id": "ZT1guxvdpajA",
        "colab": {
          "base_uri": "https://localhost:8080/",
          "height": 397
        },
        "outputId": "80e1dbeb-7060-48c1-bf44-5e24208d2863"
      },
      "execution_count": 23,
      "outputs": [
        {
          "output_type": "execute_result",
          "data": {
            "text/plain": [
              "<matplotlib.legend.Legend at 0x7f9164f0a1c0>"
            ]
          },
          "metadata": {},
          "execution_count": 23
        },
        {
          "output_type": "display_data",
          "data": {
            "text/plain": [
              "<Figure size 1080x360 with 3 Axes>"
            ],
            "image/png": "[encoded data removed]"
          },
          "metadata": {
            "needs_background": "light"
          }
        }
      ]
    }
  ]
}