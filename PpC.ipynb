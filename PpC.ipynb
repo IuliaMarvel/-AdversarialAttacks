{
  "cells": [
    {
      "cell_type": "markdown",
      "metadata": {
        "id": "57gBnXfOLCZR"
      },
      "source": [
        "# **Plan of the work:**\n",
        "\n",
        "1)Take a model\n",
        "\n",
        "2)train it on CIFAR100\n",
        "\n",
        "3)check PpC (Performance per Class)\n",
        "\n",
        "4)check PpC under pgd-attack\n",
        "\n",
        "5)train model adversarially\n",
        "\n",
        "6)Check PpC after adversarial training"
      ]
    },
    {
      "cell_type": "code",
      "execution_count": null,
      "metadata": {
        "id": "f65qibHOHViM"
      },
      "outputs": [],
      "source": [
        "import random\n",
        "import numpy as np\n",
        "import torch\n",
        "import torch.nn as nn\n",
        "import torch.nn.functional as F\n",
        "import os\n",
        "import pickle\n",
        "from torchvision import datasets, transforms\n",
        "from tqdm import tqdm\n",
        "from copy import deepcopy\n",
        "from collections import OrderedDict\n",
        "import matplotlib.pyplot as plt"
      ]
    },
    {
      "cell_type": "code",
      "execution_count": null,
      "metadata": {
        "id": "2vGEfInxJ6rC"
      },
      "outputs": [],
      "source": [
        "def set_seed(seed):\n",
        "    random.seed(seed)\n",
        "    np.random.seed(seed)\n",
        "\n",
        "    torch.manual_seed(seed)\n",
        "    torch.cuda.manual_seed_all(seed)"
      ]
    },
    {
      "cell_type": "code",
      "source": [
        "set_seed(42)"
      ],
      "metadata": {
        "id": "LofbwrqeihDc"
      },
      "execution_count": null,
      "outputs": []
    },
    {
      "cell_type": "markdown",
      "metadata": {
        "id": "myAXMXejJztX"
      },
      "source": [
        "#Model"
      ]
    },
    {
      "cell_type": "code",
      "execution_count": null,
      "metadata": {
        "id": "nYUdqhh8J3xL"
      },
      "outputs": [],
      "source": [
        "class PreActBlock(nn.Module):\n",
        "    '''Pre-activation version of the BasicBlock.'''\n",
        "    expansion = 1\n",
        "\n",
        "    def __init__(self, in_planes, planes, stride=1):\n",
        "        super().__init__()\n",
        "        self.bn1 = nn.BatchNorm2d(in_planes)\n",
        "        self.conv1 = nn.Conv2d(in_planes, planes, kernel_size=3, stride=stride, padding=1, bias=False)\n",
        "        self.bn2 = nn.BatchNorm2d(planes)\n",
        "        self.conv2 = nn.Conv2d(planes, planes, kernel_size=3, stride=1, padding=1, bias=False)\n",
        "\n",
        "        if (stride != 1) or (in_planes != self.expansion * planes):\n",
        "            self.shortcut = nn.Sequential(\n",
        "                nn.Conv2d(in_planes, self.expansion * planes, kernel_size=1, stride=stride, bias=False)\n",
        "            )\n",
        "\n",
        "    def forward(self, x):\n",
        "        out = F.relu(self.bn1(x))\n",
        "        shortcut = self.shortcut(x) if hasattr(self, 'shortcut') else x\n",
        "        out = self.conv1(out)\n",
        "        out = self.conv2(F.relu(self.bn2(out)))\n",
        "        out += shortcut\n",
        "        return out\n",
        "\n",
        "\n",
        "class PreActBottleneck(nn.Module):\n",
        "    '''Pre-activation version of the original Bottleneck module.'''\n",
        "    expansion = 4\n",
        "\n",
        "    def __init__(self, in_planes, planes, stride=1):\n",
        "        super().__init__()\n",
        "        self.bn1 = nn.BatchNorm2d(in_planes)\n",
        "        self.conv1 = nn.Conv2d(in_planes, planes, kernel_size=1, bias=False)\n",
        "        self.bn2 = nn.BatchNorm2d(planes)\n",
        "        self.conv2 = nn.Conv2d(planes, planes, kernel_size=3, stride=stride, padding=1, bias=False)\n",
        "        self.bn3 = nn.BatchNorm2d(planes)\n",
        "        self.conv3 = nn.Conv2d(planes, self.expansion*planes, kernel_size=1, bias=False)\n",
        "\n",
        "        if (stride != 1) or (in_planes != self.expansion * planes):\n",
        "            self.shortcut = nn.Sequential(\n",
        "                nn.Conv2d(in_planes, self.expansion * planes, kernel_size=1, stride=stride, bias=False)\n",
        "            )\n",
        "\n",
        "    def forward(self, x):\n",
        "        out = F.relu(self.bn1(x))\n",
        "        shortcut = self.shortcut(out) if hasattr(self, 'shortcut') else x\n",
        "        out = self.conv1(out)\n",
        "        out = self.conv2(F.relu(self.bn2(out)))\n",
        "        out = self.conv3(F.relu(self.bn3(out)))\n",
        "        out += shortcut\n",
        "        return out\n",
        "\n",
        "\n",
        "class PreActResNet(nn.Module):\n",
        "    def __init__(self, block, num_blocks, num_classes=10):\n",
        "        super().__init__()\n",
        "        self.in_planes = 64\n",
        "        self.conv1 = nn.Conv2d(3, 64, kernel_size=3, stride=1, padding=1, bias=False)\n",
        "        self.layer1 = self._make_layer(block, 64, num_blocks[0], stride=1)\n",
        "        self.layer2 = self._make_layer(block, 128, num_blocks[1], stride=2)\n",
        "        self.layer3 = self._make_layer(block, 256, num_blocks[2], stride=2)\n",
        "        self.layer4 = self._make_layer(block, 512, num_blocks[3], stride=2)\n",
        "        self.bn = nn.BatchNorm2d(512 * block.expansion)\n",
        "        self.linear = nn.Linear(512 * block.expansion, num_classes)\n",
        "\n",
        "    def _make_layer(self, block, planes, num_blocks, stride):\n",
        "        strides = [stride] + [1] * (num_blocks - 1)\n",
        "        layers = []\n",
        "        for stride in strides:\n",
        "            layers.append(block(self.in_planes, planes, stride))\n",
        "            self.in_planes = planes * block.expansion\n",
        "        return nn.Sequential(*layers)\n",
        "\n",
        "    def forward(self, x):\n",
        "        out = self.conv1(x)\n",
        "        out = self.layer1(out)\n",
        "        out = self.layer2(out)\n",
        "        out = self.layer3(out)\n",
        "        out = self.layer4(out)\n",
        "        out = F.relu(self.bn(out))\n",
        "        out = F.avg_pool2d(out, 4)\n",
        "        out = out.view(out.size(0), -1)\n",
        "        out = self.linear(out)\n",
        "        return out\n",
        "\n",
        "\n",
        "def PreActResNet18(num_classes=10):\n",
        "    return PreActResNet(PreActBlock, [2, 2, 2, 2], num_classes)"
      ]
    },
    {
      "cell_type": "markdown",
      "metadata": {
        "id": "qQ4kg9XAKc3_"
      },
      "source": [
        "#Dataset"
      ]
    },
    {
      "cell_type": "code",
      "source": [
        "def prepare_transforms(augments=[True, False]):\n",
        "    data_mean = (0.5071, 0.4865, 0.4409)\n",
        "    data_std = (0.2673, 0.2564, 0.2762)\n",
        "    # types of transform: with augmentation and without\n",
        "    transform_augmented = transforms.Compose([\n",
        "        transforms.RandomCrop(32, padding=4),\n",
        "        transforms.RandomHorizontalFlip(),\n",
        "        transforms.ToTensor(),\n",
        "        transforms.Normalize(data_mean, data_std)])\n",
        "    transform_clean = transforms.Compose([\n",
        "        transforms.ToTensor(),\n",
        "        transforms.Normalize(data_mean, data_std)])\n",
        "    # choose transform according func params\n",
        "    train_transform = transform_augmented if augments[0] else transform_clean\n",
        "    test_transform = transform_augmented if augments[1] else transform_clean\n",
        "\n",
        "    return train_transform, test_transform\n",
        "\n",
        "def get_loaders(data_dir='cifar-data', batch_size=32, augments=[True, False], shuffles=[True, False]):\n",
        "    train_transform, test_transform = prepare_transforms(augments)\n",
        "    train_dataset = datasets.CIFAR100(\n",
        "            data_dir, train=True, transform=train_transform, download=True)\n",
        "    test_dataset = datasets.CIFAR100(\n",
        "            data_dir, train=False, transform=test_transform, download=True)\n",
        "\n",
        "    train_loader = torch.utils.data.DataLoader(\n",
        "        dataset=train_dataset,\n",
        "        batch_size=batch_size, shuffle=shuffles[0],\n",
        "        pin_memory=True, num_workers=2)\n",
        "    test_loader = torch.utils.data.DataLoader(\n",
        "        dataset=test_dataset,\n",
        "        batch_size=batch_size, shuffle=shuffles[1],\n",
        "        pin_memory=True, num_workers=2)\n",
        "\n",
        "    return train_loader, test_loader"
      ],
      "metadata": {
        "id": "UPcZa_v-SGqW"
      },
      "execution_count": null,
      "outputs": []
    },
    {
      "cell_type": "markdown",
      "source": [
        "#Training on clean data"
      ],
      "metadata": {
        "id": "vkccVF77S2b2"
      }
    },
    {
      "cell_type": "code",
      "source": [
        "device = 'cuda' if torch.cuda.is_available() else 'cpu'\n",
        "\n",
        "model = PreActResNet18(num_classes=100).to(device)"
      ],
      "metadata": {
        "id": "D2Msh-lSro0j"
      },
      "execution_count": null,
      "outputs": []
    },
    {
      "cell_type": "code",
      "source": [
        "epochs = 3\n",
        "\n",
        "train_loader, test_loader = get_loaders()\n",
        "\n",
        "lr = 3e-4\n",
        "\n",
        "optimizer = torch.optim.Adam(model.parameters(), lr=lr,weight_decay=5e-4)\n",
        "\n",
        "criterion = nn.CrossEntropyLoss()\n",
        "\n",
        "loss_history = []\n",
        "acc_history = []\n",
        "acc_eval_history = []\n",
        "loop = tqdm(range(epochs))\n",
        "for epoch in loop:\n",
        "  if epoch > 12:\n",
        "    optimizer.param_groups[0]['lr'] = 1e-4\n",
        "  if epoch > 15:\n",
        "    optimizer.param_groups[0]['lr'] = 0.5e-4\n",
        "  train_loss = 0\n",
        "  train_acc = 0\n",
        "  eval_acc = 0\n",
        "  model.train()\n",
        "  for x,y in train_loader:\n",
        "    optimizer.zero_grad()\n",
        "    x,y = x.to(device), y.to(device)\n",
        "    logits = model(x)\n",
        "    loss = criterion(logits,y)\n",
        "    loss.backward()\n",
        "    optimizer.step()\n",
        "\n",
        "    train_loss += loss.item()\n",
        "    train_acc += (logits.argmax(dim=1) == y).sum().item() / len(y)\n",
        "\n",
        "  train_loss /= len(train_loader)\n",
        "  train_acc /= len(train_loader)\n",
        "  loss_history.append(train_loss)\n",
        "  acc_history.append(train_acc)\n",
        "\n",
        "  model.eval()\n",
        "  for x,y in test_loader:\n",
        "    x, y = x.to(device), y.to(device)\n",
        "    logits = model(x)\n",
        "    eval_acc += (logits.argmax(dim=1) == y).sum().item() / len(y)\n",
        "\n",
        "  eval_acc /= len(test_loader)\n",
        "  acc_eval_history.append(eval_acc)\n",
        "\n",
        "  lr = optimizer.param_groups[0]['lr']\n",
        "  loop.set_description(f'Loss:{round(train_loss,2)} train_acc: {round(train_acc,3)} val_acc:{round(eval_acc,2)} lr :{lr}')"
      ],
      "metadata": {
        "colab": {
          "base_uri": "https://localhost:8080/"
        },
        "id": "OX1t3brDS01g",
        "outputId": "4b23e1c7-918b-4864-db4c-c16354116219"
      },
      "execution_count": null,
      "outputs": [
        {
          "output_type": "stream",
          "name": "stdout",
          "text": [
            "Files already downloaded and verified\n",
            "Files already downloaded and verified\n"
          ]
        },
        {
          "output_type": "stream",
          "name": "stderr",
          "text": [
            "Loss:2.0 train_acc: 0.468 val_acc:0.48 lr :0.0003: 100%|██████████| 3/3 [02:49<00:00, 56.62s/it]\n"
          ]
        }
      ]
    },
    {
      "cell_type": "code",
      "source": [
        "best_state_dict = model.state_dict()\n",
        "\n",
        "torch.save(best_state_dict,f'model_best.pth')"
      ],
      "metadata": {
        "id": "-0mlOFPm3kjO"
      },
      "execution_count": null,
      "outputs": []
    },
    {
      "cell_type": "code",
      "source": [
        "model = PreActResNet18(num_classes=100).to(device)\n",
        "model.load_state_dict(torch.load('model_best.pth'))\n",
        "model.eval()"
      ],
      "metadata": {
        "colab": {
          "base_uri": "https://localhost:8080/"
        },
        "id": "VvudPwl7DNXT",
        "outputId": "27882427-f547-40fb-9341-b424146988bc"
      },
      "execution_count": null,
      "outputs": [
        {
          "output_type": "execute_result",
          "data": {
            "text/plain": [
              "PreActResNet(\n",
              "  (conv1): Conv2d(3, 64, kernel_size=(3, 3), stride=(1, 1), padding=(1, 1), bias=False)\n",
              "  (layer1): Sequential(\n",
              "    (0): PreActBlock(\n",
              "      (bn1): BatchNorm2d(64, eps=1e-05, momentum=0.1, affine=True, track_running_stats=True)\n",
              "      (conv1): Conv2d(64, 64, kernel_size=(3, 3), stride=(1, 1), padding=(1, 1), bias=False)\n",
              "      (bn2): BatchNorm2d(64, eps=1e-05, momentum=0.1, affine=True, track_running_stats=True)\n",
              "      (conv2): Conv2d(64, 64, kernel_size=(3, 3), stride=(1, 1), padding=(1, 1), bias=False)\n",
              "    )\n",
              "    (1): PreActBlock(\n",
              "      (bn1): BatchNorm2d(64, eps=1e-05, momentum=0.1, affine=True, track_running_stats=True)\n",
              "      (conv1): Conv2d(64, 64, kernel_size=(3, 3), stride=(1, 1), padding=(1, 1), bias=False)\n",
              "      (bn2): BatchNorm2d(64, eps=1e-05, momentum=0.1, affine=True, track_running_stats=True)\n",
              "      (conv2): Conv2d(64, 64, kernel_size=(3, 3), stride=(1, 1), padding=(1, 1), bias=False)\n",
              "    )\n",
              "  )\n",
              "  (layer2): Sequential(\n",
              "    (0): PreActBlock(\n",
              "      (bn1): BatchNorm2d(64, eps=1e-05, momentum=0.1, affine=True, track_running_stats=True)\n",
              "      (conv1): Conv2d(64, 128, kernel_size=(3, 3), stride=(2, 2), padding=(1, 1), bias=False)\n",
              "      (bn2): BatchNorm2d(128, eps=1e-05, momentum=0.1, affine=True, track_running_stats=True)\n",
              "      (conv2): Conv2d(128, 128, kernel_size=(3, 3), stride=(1, 1), padding=(1, 1), bias=False)\n",
              "      (shortcut): Sequential(\n",
              "        (0): Conv2d(64, 128, kernel_size=(1, 1), stride=(2, 2), bias=False)\n",
              "      )\n",
              "    )\n",
              "    (1): PreActBlock(\n",
              "      (bn1): BatchNorm2d(128, eps=1e-05, momentum=0.1, affine=True, track_running_stats=True)\n",
              "      (conv1): Conv2d(128, 128, kernel_size=(3, 3), stride=(1, 1), padding=(1, 1), bias=False)\n",
              "      (bn2): BatchNorm2d(128, eps=1e-05, momentum=0.1, affine=True, track_running_stats=True)\n",
              "      (conv2): Conv2d(128, 128, kernel_size=(3, 3), stride=(1, 1), padding=(1, 1), bias=False)\n",
              "    )\n",
              "  )\n",
              "  (layer3): Sequential(\n",
              "    (0): PreActBlock(\n",
              "      (bn1): BatchNorm2d(128, eps=1e-05, momentum=0.1, affine=True, track_running_stats=True)\n",
              "      (conv1): Conv2d(128, 256, kernel_size=(3, 3), stride=(2, 2), padding=(1, 1), bias=False)\n",
              "      (bn2): BatchNorm2d(256, eps=1e-05, momentum=0.1, affine=True, track_running_stats=True)\n",
              "      (conv2): Conv2d(256, 256, kernel_size=(3, 3), stride=(1, 1), padding=(1, 1), bias=False)\n",
              "      (shortcut): Sequential(\n",
              "        (0): Conv2d(128, 256, kernel_size=(1, 1), stride=(2, 2), bias=False)\n",
              "      )\n",
              "    )\n",
              "    (1): PreActBlock(\n",
              "      (bn1): BatchNorm2d(256, eps=1e-05, momentum=0.1, affine=True, track_running_stats=True)\n",
              "      (conv1): Conv2d(256, 256, kernel_size=(3, 3), stride=(1, 1), padding=(1, 1), bias=False)\n",
              "      (bn2): BatchNorm2d(256, eps=1e-05, momentum=0.1, affine=True, track_running_stats=True)\n",
              "      (conv2): Conv2d(256, 256, kernel_size=(3, 3), stride=(1, 1), padding=(1, 1), bias=False)\n",
              "    )\n",
              "  )\n",
              "  (layer4): Sequential(\n",
              "    (0): PreActBlock(\n",
              "      (bn1): BatchNorm2d(256, eps=1e-05, momentum=0.1, affine=True, track_running_stats=True)\n",
              "      (conv1): Conv2d(256, 512, kernel_size=(3, 3), stride=(2, 2), padding=(1, 1), bias=False)\n",
              "      (bn2): BatchNorm2d(512, eps=1e-05, momentum=0.1, affine=True, track_running_stats=True)\n",
              "      (conv2): Conv2d(512, 512, kernel_size=(3, 3), stride=(1, 1), padding=(1, 1), bias=False)\n",
              "      (shortcut): Sequential(\n",
              "        (0): Conv2d(256, 512, kernel_size=(1, 1), stride=(2, 2), bias=False)\n",
              "      )\n",
              "    )\n",
              "    (1): PreActBlock(\n",
              "      (bn1): BatchNorm2d(512, eps=1e-05, momentum=0.1, affine=True, track_running_stats=True)\n",
              "      (conv1): Conv2d(512, 512, kernel_size=(3, 3), stride=(1, 1), padding=(1, 1), bias=False)\n",
              "      (bn2): BatchNorm2d(512, eps=1e-05, momentum=0.1, affine=True, track_running_stats=True)\n",
              "      (conv2): Conv2d(512, 512, kernel_size=(3, 3), stride=(1, 1), padding=(1, 1), bias=False)\n",
              "    )\n",
              "  )\n",
              "  (bn): BatchNorm2d(512, eps=1e-05, momentum=0.1, affine=True, track_running_stats=True)\n",
              "  (linear): Linear(in_features=512, out_features=100, bias=True)\n",
              ")"
            ]
          },
          "metadata": {},
          "execution_count": 12
        }
      ]
    },
    {
      "cell_type": "markdown",
      "source": [
        "#Check PpC on clean data"
      ],
      "metadata": {
        "id": "uFBo6FpfIe4o"
      }
    },
    {
      "cell_type": "code",
      "source": [
        "def PpC_measure(dataloader,model,num_classes):\n",
        "  '''\n",
        "  Return accuracy per class\n",
        "  '''\n",
        "  images_per_class = {i: 0 for i in range(num_classes)}\n",
        "  correct_per_class = {i: 0 for i in range(num_classes)}\n",
        "\n",
        "  for x,y in dataloader:\n",
        "    x,y = x.to(device), y.to(device)\n",
        "    preds = model(x).argmax(1)\n",
        "    for i in range(num_classes):\n",
        "      images_per_class[i] += (y == i).sum().item()\n",
        "      correct_per_class[i] += (preds[y==i] == i).sum().item()\n",
        "  \n",
        "  for i in range(num_classes):\n",
        "    correct_per_class[i] /= images_per_class[i]\n",
        "  \n",
        "  return correct_per_class"
      ],
      "metadata": {
        "id": "DUc2EFwGARTF"
      },
      "execution_count": null,
      "outputs": []
    },
    {
      "cell_type": "code",
      "source": [
        "acc_per_class_clean = PpC_measure(test_loader,model,num_classes=100)\n",
        "\n",
        "classes = list(acc_per_class_clean.keys())\n",
        "values = list(acc_per_class_clean.values())\n",
        "\n",
        "plt.plot(classes,values)"
      ],
      "metadata": {
        "colab": {
          "base_uri": "https://localhost:8080/",
          "height": 282
        },
        "id": "kSWYOHknGJ9a",
        "outputId": "bce99782-8dc7-489b-b9e2-5abc16c16048"
      },
      "execution_count": null,
      "outputs": [
        {
          "output_type": "execute_result",
          "data": {
            "text/plain": [
              "[<matplotlib.lines.Line2D at 0x7f6e00543e80>]"
            ]
          },
          "metadata": {},
          "execution_count": 14
        },
        {
          "output_type": "display_data",
          "data": {
            "text/plain": [
              "<Figure size 432x288 with 1 Axes>"
            ],
            "image/png": "[encoded data removed]"
          },
          "metadata": {
            "needs_background": "light"
          }
        }
      ]
    },
    {
      "cell_type": "markdown",
      "source": [
        "#PpC under attacks"
      ],
      "metadata": {
        "id": "cDdwkvZ7dXwl"
      }
    },
    {
      "cell_type": "code",
      "source": [
        "!pip install torchattacks"
      ],
      "metadata": {
        "colab": {
          "base_uri": "https://localhost:8080/"
        },
        "id": "BKh_nDXRJDd7",
        "outputId": "31e6fe0f-43e2-45a2-ff2a-ba5a3d684572"
      },
      "execution_count": null,
      "outputs": [
        {
          "output_type": "stream",
          "name": "stdout",
          "text": [
            "Looking in indexes: https://pypi.org/simple, https://us-python.pkg.dev/colab-wheels/public/simple/\n",
            "Collecting torchattacks\n",
            "  Downloading torchattacks-3.3.0-py3-none-any.whl (155 kB)\n",
            "\u001b[2K     \u001b[90m━━━━━━━━━━━━━━━━━━━━━━━━━━━━━━━━━━━━━━━\u001b[0m \u001b[32m155.9/155.9 KB\u001b[0m \u001b[31m6.7 MB/s\u001b[0m eta \u001b[36m0:00:00\u001b[0m\n",
            "\u001b[?25hInstalling collected packages: torchattacks\n",
            "Successfully installed torchattacks-3.3.0\n"
          ]
        }
      ]
    },
    {
      "cell_type": "code",
      "source": [
        "from torchattacks.attacks.pgd import PGD"
      ],
      "metadata": {
        "id": "Fx_g6jtYJ3iU"
      },
      "execution_count": null,
      "outputs": []
    },
    {
      "cell_type": "code",
      "source": [
        "def PpC_attack(dataloader,model,num_classes):\n",
        "  '''\n",
        "  Return accuracy per class with poisoned data\n",
        "  '''\n",
        "  images_per_class = {i: 0 for i in range(num_classes)}\n",
        "  correct_per_class = {i: 0 for i in range(num_classes)}\n",
        "\n",
        "  attack = PGD(model, eps=3/255, alpha=1/255, steps=5, random_start=True)\n",
        "\n",
        "  for x,y in tqdm(dataloader):\n",
        "    x,y = x.to(device), y.to(device)\n",
        "    preds_clean = model(x).argmax(1)\n",
        "    adv_images = attack(x,y)\n",
        "    preds_adv = model(adv_images).argmax(1)\n",
        "    for i in range(num_classes):\n",
        "      images_per_class[i] += (y == i).sum().item()\n",
        "      correct_per_class[i] += ((preds_clean[y==i] == i) * (preds_adv[y==i] == i)).sum().item()\n",
        "  \n",
        "  for i in range(num_classes):\n",
        "    correct_per_class[i] /= images_per_class[i]\n",
        "  \n",
        "  return correct_per_class"
      ],
      "metadata": {
        "id": "QxJZRJcDdckE"
      },
      "execution_count": null,
      "outputs": []
    },
    {
      "cell_type": "code",
      "source": [
        "acc_per_class_attack = PpC_attack(test_loader,model,num_classes=100)\n",
        "\n",
        "classes_a = list(acc_per_class_attack.keys())\n",
        "values_a = list(acc_per_class_attack.values())"
      ],
      "metadata": {
        "colab": {
          "base_uri": "https://localhost:8080/"
        },
        "id": "E0JyAcRthEg9",
        "outputId": "f49a363a-9f58-410d-ed14-6226500b0b29"
      },
      "execution_count": null,
      "outputs": [
        {
          "output_type": "stream",
          "name": "stderr",
          "text": [
            "100%|██████████| 313/313 [00:42<00:00,  7.41it/s]\n"
          ]
        }
      ]
    },
    {
      "cell_type": "code",
      "source": [
        "plt.plot(classes_a,values_a,label='poisoned')\n",
        "plt.plot(classes,values,label='clean')\n",
        "plt.legend()"
      ],
      "metadata": {
        "colab": {
          "base_uri": "https://localhost:8080/",
          "height": 282
        },
        "id": "FAXwy8fzBJfa",
        "outputId": "b6cb447d-c456-4435-ad32-2d245dd2f5e0"
      },
      "execution_count": null,
      "outputs": [
        {
          "output_type": "execute_result",
          "data": {
            "text/plain": [
              "<matplotlib.legend.Legend at 0x7f6d27bd6eb0>"
            ]
          },
          "metadata": {},
          "execution_count": 19
        },
        {
          "output_type": "display_data",
          "data": {
            "text/plain": [
              "<Figure size 432x288 with 1 Axes>"
            ],
            "image/png": "[encoded data removed]"
          },
          "metadata": {
            "needs_background": "light"
          }
        }
      ]
    },
    {
      "cell_type": "code",
      "source": [
        "coarse_id_fine_id = \\\n",
        "{0: [4, 30, 55, 72, 95],\n",
        "1: [1, 32, 67, 73, 91],\n",
        "2: [54, 62, 70, 82, 92],\n",
        "3: [9, 10, 16, 28, 61],\n",
        "4: [0, 51, 53, 57, 83],\n",
        "5: [22, 39, 40, 86, 87],\n",
        "6: [5, 20, 25, 84, 94],\n",
        "7: [6, 7, 14, 18, 24],\n",
        "8: [3, 42, 43, 88, 97],\n",
        "9: [12, 17, 37, 68, 76],\n",
        "10: [23, 33, 49, 60, 71],\n",
        "11: [15, 19, 21, 31, 38],\n",
        "12: [34, 63, 64, 66, 75],\n",
        "13: [26, 45, 77, 79, 99],\n",
        "14: [2, 11, 35, 46, 98],\n",
        "15: [27, 29, 44, 78, 93],\n",
        "16: [36, 50, 65, 74, 80],\n",
        "17: [47, 52, 56, 59, 96],\n",
        "18: [8, 13, 48, 58, 90],\n",
        "19: [41, 69, 81, 85, 89]}\n",
        "\n",
        "fine_id_coarse_id = dict()\n",
        "for super_class,labels in coarse_id_fine_id.items():\n",
        "  for label in labels:\n",
        "    fine_id_coarse_id[label] = super_class"
      ],
      "metadata": {
        "id": "1LG8ysXpQXek"
      },
      "execution_count": null,
      "outputs": []
    },
    {
      "cell_type": "markdown",
      "source": [
        "**Match of easy classes**"
      ],
      "metadata": {
        "id": "7Vx4jFh-CO76"
      }
    },
    {
      "cell_type": "code",
      "source": [
        "sort_acc = sorted(acc_per_class_clean.items(), key=lambda x:x[1])\n",
        "# print(sorted([i[0] for i in sort_acc[-15:]]))\n",
        "labels = np.unique(np.array([fine_id_coarse_id[i[0]] for i in sort_acc[-15:]]))\n",
        "print(labels)\n",
        "sort_acc = sorted(acc_per_class_attack.items(), key=lambda x:x[1])\n",
        "# print(sorted([i[0] for i in sort_acc[-15:]]))\n",
        "labels = np.unique(np.array([fine_id_coarse_id[i[0]] for i in sort_acc[-15:]]))\n",
        "print(labels)"
      ],
      "metadata": {
        "colab": {
          "base_uri": "https://localhost:8080/"
        },
        "id": "FShNYbDPmWNs",
        "outputId": "d5be2447-6634-4be6-f863-5a984c35fcad"
      },
      "execution_count": null,
      "outputs": [
        {
          "output_type": "stream",
          "name": "stdout",
          "text": [
            "[ 2  3  4  5  6  9 10 11 12 18]\n",
            "[ 1  2  3  5  6 13 18 19]\n"
          ]
        }
      ]
    },
    {
      "cell_type": "markdown",
      "source": [
        "**Match of hard classes**"
      ],
      "metadata": {
        "id": "UKq6ySPnCWBx"
      }
    },
    {
      "cell_type": "code",
      "source": [
        "sort_acc = sorted(acc_per_class_clean.items(), key=lambda x:x[1])\n",
        "# print(sorted([i[0] for i in sort_acc[-15:]]))\n",
        "labels = np.unique(np.array([fine_id_coarse_id[i[0]] for i in sort_acc[:20]]))\n",
        "print(labels)\n",
        "sort_acc = sorted(acc_per_class_attack.items(), key=lambda x:x[1])\n",
        "# print(sorted([i[0] for i in sort_acc[-15:]]))\n",
        "labels = np.unique(np.array([fine_id_coarse_id[i[0]] for i in sort_acc[:20]]))\n",
        "print(labels)"
      ],
      "metadata": {
        "colab": {
          "base_uri": "https://localhost:8080/"
        },
        "id": "8pPH32MFP2Qo",
        "outputId": "8f0073d4-6e97-4afa-8de8-4cf868f25116"
      },
      "execution_count": null,
      "outputs": [
        {
          "output_type": "stream",
          "name": "stdout",
          "text": [
            "[ 0  1  3  6  8 12 13 14 15 16 17 18]\n",
            "[ 0  4  7  8 11 12 14 16 17 18]\n"
          ]
        }
      ]
    },
    {
      "cell_type": "code",
      "source": [
        "attack = PGD(model, eps=8/255, alpha=2/255, steps=10, random_start=True)\n",
        "images,labels = next(iter(test_loader))\n",
        "images,labels = images.to(device),labels.to(device)\n",
        "adv_images = attack(images, labels)"
      ],
      "metadata": {
        "id": "YAS9iNF4KBFI"
      },
      "execution_count": null,
      "outputs": []
    },
    {
      "cell_type": "code",
      "source": [
        "fig,axes = plt.subplots(1,2)\n",
        "index = 17\n",
        "pr_clean = model(images[index].unsqueeze(0)).argmax(1).item()\n",
        "pr_attack = model(adv_images[index].unsqueeze(0)).argmax(1).item()\n",
        "axes[0].imshow(images[index].cpu().permute(1,2,0).clip(0,1))\n",
        "axes[0].set_title(f'{pr_clean}')\n",
        "axes[1].set_title(f'{pr_attack}')\n",
        "axes[1].imshow(adv_images[index].cpu().permute(1,2,0).clip(0,1))\n",
        "axes[0].axis('off')\n",
        "axes[1].axis('off')\n",
        "plt.show()\n",
        "print(labels[index])"
      ],
      "metadata": {
        "colab": {
          "base_uri": "https://localhost:8080/",
          "height": 216
        },
        "id": "_THV946EK4x0",
        "outputId": "0029fc75-8d74-4288-8a67-760837f27e57"
      },
      "execution_count": null,
      "outputs": [
        {
          "output_type": "display_data",
          "data": {
            "text/plain": [
              "<Figure size 432x288 with 2 Axes>"
            ],
            "image/png": "[encoded data removed]"
          },
          "metadata": {
            "needs_background": "light"
          }
        },
        {
          "output_type": "stream",
          "name": "stdout",
          "text": [
            "tensor(97, device='cuda:0')\n"
          ]
        }
      ]
    },
    {
      "cell_type": "markdown",
      "source": [
        "#Adversarial Training"
      ],
      "metadata": {
        "id": "pXfV4t76KbRO"
      }
    },
    {
      "cell_type": "code",
      "source": [
        "weight_decay = 5e-4\n",
        "epsilon = 8\n",
        "batch_size = 32\n",
        "alpha = 2\n",
        "loss_weight = 0.3\n",
        "fgsm_step = 1\n",
        "delta_init = 'random'\n",
        "train_loader, test_loader = get_loaders()\n",
        "model = PreActResNet18(num_classes=100).to(device)\n",
        "model.train()\n",
        "\n",
        "optimizer = torch.optim.Adam(model.parameters(),lr=3e-4,weight_decay=weight_decay)\n",
        "scaler = torch.cuda.amp.GradScaler()\n",
        "criterion = nn.CrossEntropyLoss()\n",
        "\n",
        "data_mean = (0.5071, 0.4865, 0.4409)\n",
        "data_std = (0.2673, 0.2564, 0.2762)\n",
        "\n",
        "mu = torch.tensor(data_mean).view(3, 1, 1).to(device)\n",
        "std = torch.tensor(data_std).view(3, 1, 1).to(device)\n",
        "upper_limit = ((1 - mu) / std)\n",
        "lower_limit = ((0 - mu) / std)\n",
        "epsilon = (epsilon / 255.) / std\n",
        "alpha = (alpha / 255.) / std\n",
        "\n",
        "if delta_init == 'previous':\n",
        "    delta = torch.zeros(batch_size, 3, 32, 32).to(device)\n",
        "\n",
        "prev_robust_acc = 0."
      ],
      "metadata": {
        "colab": {
          "base_uri": "https://localhost:8080/"
        },
        "id": "ya3GzA8-Uoih",
        "outputId": "562355da-812d-49e6-dea1-afe27cfabf0c"
      },
      "execution_count": null,
      "outputs": [
        {
          "output_type": "stream",
          "name": "stdout",
          "text": [
            "Files already downloaded and verified\n",
            "Files already downloaded and verified\n"
          ]
        }
      ]
    },
    {
      "cell_type": "code",
      "source": [
        "def clamp(X, lower_limit, upper_limit):\n",
        "    return torch.max(torch.min(X, upper_limit), lower_limit)"
      ],
      "metadata": {
        "id": "MA3qh7pXZUXE"
      },
      "execution_count": null,
      "outputs": []
    },
    {
      "cell_type": "code",
      "source": [
        "optimizer = torch.optim.Adam(model.parameters(),lr=0.5e-4,weight_decay=weight_decay)\n",
        "\n",
        "epochs = 25\n",
        "loop = tqdm(range(epochs))\n",
        "for epoch in loop:\n",
        "    train_loss,train_acc,train_n = 0,0,0\n",
        "\n",
        "    for i, (X, y) in enumerate(train_loader):\n",
        "        optimizer.zero_grad()\n",
        "        X, y = X.to(device), y.to(device)\n",
        "        if delta_init != 'previous':\n",
        "            delta = torch.zeros_like(X).to(device)\n",
        "        if delta_init == 'random':\n",
        "            for j in range(len(epsilon)):\n",
        "                delta[:, j, :, :].uniform_(-epsilon[j][0][0].item(), epsilon[j][0][0].item())\n",
        "            delta.data = clamp(delta, lower_limit - X, upper_limit - X)\n",
        "        if fgsm_step == 1:\n",
        "            delta.requires_grad = True\n",
        "            for _ in range(1):\n",
        "                output = model(X + delta[:X.size(0)])\n",
        "                loss = F.cross_entropy(output, y)\n",
        "                scaler.scale(loss).backward()\n",
        "                scaler.step(optimizer)\n",
        "                scaler.update()\n",
        "                grad = delta.grad.detach()\n",
        "                delta.data = clamp(delta + alpha * torch.sign(grad), -epsilon, epsilon)\n",
        "                delta.data[:X.size(0)] = clamp(delta[:X.size(0)], lower_limit - X, upper_limit - X)\n",
        "                optimizer.zero_grad()\n",
        "            delta = delta.detach()\n",
        "            output = model(X + delta[:X.size(0)])\n",
        "            loss = (1 - loss_weight) * criterion(output, y) + loss_weight * criterion(model(X), y)\n",
        "            loss.backward()\n",
        "            optimizer.step()\n",
        "            \n",
        "        train_loss += loss.item() * y.size(0)\n",
        "        train_acc += (output.max(1)[1] == y).sum().item()\n",
        "        train_n += y.size(0)\n",
        "      \n",
        "    loop.set_description(f'train acc: {round(train_acc / train_n,3)}')"
      ],
      "metadata": {
        "colab": {
          "base_uri": "https://localhost:8080/",
          "height": 252
        },
        "id": "nAO5xFY4QlL2",
        "outputId": "e0d581ea-20d7-46af-a1ec-f5daee6c26aa"
      },
      "execution_count": null,
      "outputs": [
        {
          "output_type": "stream",
          "name": "stderr",
          "text": [
            "train acc: 0.547:  24%|██▍       | 6/25 [17:18<54:49, 173.14s/it]\n"
          ]
        },
        {
          "output_type": "error",
          "ename": "KeyboardInterrupt",
          "evalue": "ignored",
          "traceback": [
            "\u001b[0;31m---------------------------------------------------------------------------\u001b[0m",
            "\u001b[0;31mKeyboardInterrupt\u001b[0m                         Traceback (most recent call last)",
            "\u001b[0;32m<ipython-input-33-815299fdc6b1>\u001b[0m in \u001b[0;36m<module>\u001b[0;34m\u001b[0m\n\u001b[1;32m     33\u001b[0m             \u001b[0moptimizer\u001b[0m\u001b[0;34m.\u001b[0m\u001b[0mstep\u001b[0m\u001b[0;34m(\u001b[0m\u001b[0;34m)\u001b[0m\u001b[0;34m\u001b[0m\u001b[0;34m\u001b[0m\u001b[0m\n\u001b[1;32m     34\u001b[0m \u001b[0;34m\u001b[0m\u001b[0m\n\u001b[0;32m---> 35\u001b[0;31m         \u001b[0mtrain_loss\u001b[0m \u001b[0;34m+=\u001b[0m \u001b[0mloss\u001b[0m\u001b[0;34m.\u001b[0m\u001b[0mitem\u001b[0m\u001b[0;34m(\u001b[0m\u001b[0;34m)\u001b[0m \u001b[0;34m*\u001b[0m \u001b[0my\u001b[0m\u001b[0;34m.\u001b[0m\u001b[0msize\u001b[0m\u001b[0;34m(\u001b[0m\u001b[0;36m0\u001b[0m\u001b[0;34m)\u001b[0m\u001b[0;34m\u001b[0m\u001b[0;34m\u001b[0m\u001b[0m\n\u001b[0m\u001b[1;32m     36\u001b[0m         \u001b[0mtrain_acc\u001b[0m \u001b[0;34m+=\u001b[0m \u001b[0;34m(\u001b[0m\u001b[0moutput\u001b[0m\u001b[0;34m.\u001b[0m\u001b[0mmax\u001b[0m\u001b[0;34m(\u001b[0m\u001b[0;36m1\u001b[0m\u001b[0;34m)\u001b[0m\u001b[0;34m[\u001b[0m\u001b[0;36m1\u001b[0m\u001b[0;34m]\u001b[0m \u001b[0;34m==\u001b[0m \u001b[0my\u001b[0m\u001b[0;34m)\u001b[0m\u001b[0;34m.\u001b[0m\u001b[0msum\u001b[0m\u001b[0;34m(\u001b[0m\u001b[0;34m)\u001b[0m\u001b[0;34m.\u001b[0m\u001b[0mitem\u001b[0m\u001b[0;34m(\u001b[0m\u001b[0;34m)\u001b[0m\u001b[0;34m\u001b[0m\u001b[0;34m\u001b[0m\u001b[0m\n\u001b[1;32m     37\u001b[0m         \u001b[0mtrain_n\u001b[0m \u001b[0;34m+=\u001b[0m \u001b[0my\u001b[0m\u001b[0;34m.\u001b[0m\u001b[0msize\u001b[0m\u001b[0;34m(\u001b[0m\u001b[0;36m0\u001b[0m\u001b[0;34m)\u001b[0m\u001b[0;34m\u001b[0m\u001b[0;34m\u001b[0m\u001b[0m\n",
            "\u001b[0;31mKeyboardInterrupt\u001b[0m: "
          ]
        }
      ]
    },
    {
      "cell_type": "code",
      "source": [
        "best_state_dict_at = model.state_dict()\n",
        "\n",
        "torch.save(best_state_dict,'model_at.pth')"
      ],
      "metadata": {
        "id": "Td5mWjkysCUi"
      },
      "execution_count": null,
      "outputs": []
    },
    {
      "cell_type": "code",
      "source": [
        "NUM_CLASSES = 100\n",
        "\n",
        "def attack_pgd(model, X, y, epsilon, alpha, attack_iters, restarts, lower_limit, upper_limit, args=None):\n",
        "\n",
        "    max_loss = torch.zeros(y.shape[0]).to(device)\n",
        "    max_delta = torch.zeros_like(X).to(device)\n",
        "    scaler = torch.cuda.amp.GradScaler()\n",
        "\n",
        "    for _ in range(restarts):\n",
        "        delta = torch.zeros_like(X).to(device)\n",
        "        for i in range(len(epsilon)):\n",
        "            delta[:, i, :, :].uniform_(-epsilon[i][0][0].item(), epsilon[i][0][0].item())\n",
        "        delta.data = clamp(delta, lower_limit - X, upper_limit - X)\n",
        "        delta.requires_grad = True\n",
        "\n",
        "        for _ in range(attack_iters):\n",
        "            with torch.cuda.amp.autocast():\n",
        "                output = model(X + delta)\n",
        "                index = torch.where(output.max(1)[1] == y)[0]\n",
        "                if len(index) == 0:\n",
        "                    break\n",
        "                loss = F.cross_entropy(output, y)\n",
        "\n",
        "            scaler.scale(loss).backward()\n",
        "            grad = delta.grad.detach()\n",
        "\n",
        "            d = delta[index, :, :, :]\n",
        "            g = grad[index, :, :, :]\n",
        "            d = clamp(d + alpha * torch.sign(g), -epsilon, epsilon)\n",
        "            d = clamp(d, lower_limit - X[index, :, :, :], upper_limit - X[index, :, :, :])\n",
        "\n",
        "            delta.data[index, :, :, :] = d\n",
        "            delta.grad.zero_()\n",
        "\n",
        "        all_loss = F.cross_entropy(model(X + delta), y, reduction='none').detach()\n",
        "        max_delta[all_loss >= max_loss] = delta.detach()[all_loss >= max_loss]\n",
        "        max_loss = torch.max(max_loss, all_loss)\n",
        "\n",
        "    return max_delta\n",
        "\n",
        "\n",
        "def evaluate_pgd(test_loader, model, attack_iters, restarts, epsilon, alpha, lower_limit, upper_limit, args=None):\n",
        "\n",
        "    examples_per_class = {i : 0 for i in range(NUM_CLASSES)}\n",
        "    correct_per_class = {i : 0 for i in range(NUM_CLASSES)}\n",
        "\n",
        "    pgd_loss, pgd_acc = 0, 0\n",
        "    n = 0\n",
        "    model.eval()\n",
        "    for i, (X, y) in tqdm(enumerate(test_loader), total=len(test_loader)):\n",
        "        X, y = X.to(device), y.to(device)\n",
        "        pgd_delta = attack_pgd(model, X, y, epsilon, alpha, attack_iters, restarts, lower_limit, upper_limit, args=args)\n",
        "        with torch.no_grad():\n",
        "            output = model(X + pgd_delta)\n",
        "            preds = output.max(1)[1]\n",
        "            for i in range(NUM_CLASSES):\n",
        "                examples_per_class[i] += len(y[y==i])\n",
        "                correct_per_class[i] += (preds[y==i] == i).sum().item()\n",
        "            loss = F.cross_entropy(output, y)\n",
        "            pgd_loss += loss.item() * y.size(0)\n",
        "            pgd_acc += (output.max(1)[1] == y).sum().item()\n",
        "            n += y.size(0)\n",
        "        acc_per_class = {}\n",
        "    for i in range(NUM_CLASSES):\n",
        "        acc_per_class[i] = correct_per_class[i] / examples_per_class[i]\n",
        "    return pgd_loss/n, pgd_acc/n,acc_per_class\n",
        "\n",
        "\n",
        "def evaluate_standard(test_loader, model, args=None):\n",
        "    \n",
        "    examples_per_class = {i : 0 for i in range(NUM_CLASSES)}\n",
        "    correct_per_class = {i : 0 for i in range(NUM_CLASSES)}\n",
        "    \n",
        "    test_loss, test_acc = 0, 0\n",
        "    n = 0\n",
        "    model.eval()\n",
        "    with torch.no_grad():\n",
        "        for i, (X, y) in tqdm(enumerate(test_loader), total=len(test_loader)):\n",
        "            X, y = X.to(device), y.to(device)\n",
        "            output = model(X)\n",
        "            preds = output.max(1)[1]\n",
        "            for i in range(NUM_CLASSES):\n",
        "                examples_per_class[i] += len(y[y==i])\n",
        "                correct_per_class[i] += (preds[y==i] == i).sum().item()\n",
        "            loss = F.cross_entropy(output, y)\n",
        "            test_loss += loss.item() * y.size(0)\n",
        "            test_acc += (output.max(1)[1] == y).sum().item()\n",
        "            n += y.size(0)\n",
        "    acc_per_class = {}\n",
        "    for i in range(NUM_CLASSES):\n",
        "        acc_per_class[i] = correct_per_class[i] / examples_per_class[i]\n",
        "    return test_loss/n, test_acc/n,acc_per_class\n"
      ],
      "metadata": {
        "id": "y5wakhKAsHnq"
      },
      "execution_count": null,
      "outputs": []
    },
    {
      "cell_type": "code",
      "source": [
        "# Evaluation\n",
        "model_at = PreActResNet18(num_classes=100).to(device)\n",
        "model_at.load_state_dict(best_state_dict_at)\n",
        "model_at.float()\n",
        "model_at.eval()\n",
        "\n",
        "\n",
        "pgd_loss, pgd_acc, acc_cl_pgd_at = evaluate_pgd(test_loader, model_at, 1, 5, epsilon, alpha, \n",
        "                                  lower_limit, upper_limit)\n",
        "test_loss, test_acc, acc_cl_standart_at = evaluate_standard(test_loader, model_at)\n",
        "print(test_acc,pgd_acc)"
      ],
      "metadata": {
        "colab": {
          "base_uri": "https://localhost:8080/"
        },
        "id": "Ve6eV7XqUjz7",
        "outputId": "d5f89681-d8eb-4048-f0e1-1222c4cd9fda"
      },
      "execution_count": null,
      "outputs": [
        {
          "output_type": "stream",
          "name": "stderr",
          "text": [
            "100%|██████████| 313/313 [00:48<00:00,  6.49it/s]\n",
            "100%|██████████| 313/313 [00:09<00:00, 33.83it/s]"
          ]
        },
        {
          "output_type": "stream",
          "name": "stdout",
          "text": [
            "0.6828 0.4098\n"
          ]
        },
        {
          "output_type": "stream",
          "name": "stderr",
          "text": [
            "\n"
          ]
        }
      ]
    },
    {
      "cell_type": "markdown",
      "source": [
        "#PpC after adv training"
      ],
      "metadata": {
        "id": "4yyG07hsts20"
      }
    },
    {
      "cell_type": "code",
      "source": [
        "classes_at = list(acc_cl_pgd_at.keys())\n",
        "values_at = list(acc_cl_pgd_at.values())\n",
        "print(acc_cl_pgd_at)"
      ],
      "metadata": {
        "colab": {
          "base_uri": "https://localhost:8080/"
        },
        "id": "xBiq3jw-Z4iT",
        "outputId": "c8b9a005-87ff-4315-d74c-ded38d19eda1"
      },
      "execution_count": null,
      "outputs": [
        {
          "output_type": "stream",
          "name": "stdout",
          "text": [
            "{0: 0.67, 1: 0.64, 2: 0.26, 3: 0.12, 4: 0.1, 5: 0.37, 6: 0.43, 7: 0.4, 8: 0.41, 9: 0.54, 10: 0.22, 11: 0.23, 12: 0.52, 13: 0.29, 14: 0.3, 15: 0.33, 16: 0.54, 17: 0.54, 18: 0.38, 19: 0.32, 20: 0.73, 21: 0.69, 22: 0.44, 23: 0.61, 24: 0.73, 25: 0.37, 26: 0.34, 27: 0.22, 28: 0.54, 29: 0.41, 30: 0.24, 31: 0.29, 32: 0.44, 33: 0.22, 34: 0.33, 35: 0.1, 36: 0.48, 37: 0.36, 38: 0.14, 39: 0.67, 40: 0.46, 41: 0.64, 42: 0.25, 43: 0.39, 44: 0.11, 45: 0.29, 46: 0.24, 47: 0.3, 48: 0.78, 49: 0.48, 50: 0.15, 51: 0.38, 52: 0.55, 53: 0.82, 54: 0.57, 55: 0.04, 56: 0.59, 57: 0.49, 58: 0.7, 59: 0.33, 60: 0.68, 61: 0.31, 62: 0.4, 63: 0.32, 64: 0.25, 65: 0.11, 66: 0.51, 67: 0.31, 68: 0.73, 69: 0.58, 70: 0.39, 71: 0.56, 72: 0.07, 73: 0.27, 74: 0.15, 75: 0.64, 76: 0.66, 77: 0.25, 78: 0.31, 79: 0.21, 80: 0.09, 81: 0.29, 82: 0.75, 83: 0.42, 84: 0.34, 85: 0.5, 86: 0.48, 87: 0.57, 88: 0.43, 89: 0.59, 90: 0.51, 91: 0.58, 92: 0.24, 93: 0.19, 94: 0.75, 95: 0.55, 96: 0.19, 97: 0.43, 98: 0.22, 99: 0.63}\n"
          ]
        }
      ]
    },
    {
      "cell_type": "code",
      "source": [
        "x = [classes,classes_a,classes_at] \n",
        "y = [values,values_a,values_at]\n",
        "labels = ['clean','attack','adv_training']\n",
        "fig = plt.figure(figsize = (10,7))\n",
        "ax = plt.subplot(111)\n",
        "\n",
        "for i in range(3):\n",
        "    line, = ax.plot(x[i], y[i], label=labels[i])\n",
        "\n",
        "ax.legend(loc='upper center', bbox_to_anchor=(0.5, 1.05),\n",
        "          ncol=3, fancybox=True, shadow=True)\n",
        "\n",
        "plt.xlabel('class label')\n",
        "plt.ylabel('accuracy')\n",
        "plt.show()\n"
      ],
      "metadata": {
        "colab": {
          "base_uri": "https://localhost:8080/",
          "height": 456
        },
        "id": "BcU7dSN3aIz4",
        "outputId": "bd448e7e-390f-4a92-e954-500e2cc805a3"
      },
      "execution_count": null,
      "outputs": [
        {
          "output_type": "display_data",
          "data": {
            "text/plain": [
              "<Figure size 720x504 with 1 Axes>"
            ],
            "image/png": "[encoded data removed]"
          },
          "metadata": {
            "needs_background": "light"
          }
        }
      ]
    },
    {
      "cell_type": "markdown",
      "source": [
        "#Check match of easy classses"
      ],
      "metadata": {
        "id": "YDML8I--eb71"
      }
    },
    {
      "cell_type": "markdown",
      "source": [
        "On coarse labels"
      ],
      "metadata": {
        "id": "e6vIP3xnnbW0"
      }
    },
    {
      "cell_type": "code",
      "source": [
        "sort_acc = sorted(acc_per_class_clean.items(), key=lambda x:x[1])\n",
        "# print(sorted([i[0] for i in sort_acc[-15:]]))\n",
        "labels = np.unique(np.array([fine_id_coarse_id[i[0]] for i in sort_acc[-15:]]))\n",
        "print('on clear images',labels,end = '\\n\\n')\n",
        "sort_acc = sorted(acc_per_class_attack.items(), key=lambda x:x[1])\n",
        "# print(sorted([i[0] for i in sort_acc[-15:]]))\n",
        "labels = np.unique(np.array([fine_id_coarse_id[i[0]] for i in sort_acc[-15:]]))\n",
        "print('on poisoned images',labels)\n",
        "sort_acc = sorted(acc_cl_pgd_at.items(), key=lambda x:x[1])\n",
        "# print(sorted([i[0] for i in sort_acc[-15:]]))\n",
        "labels = np.unique(np.array([fine_id_coarse_id[i[0]] for i in sort_acc[-15:]]))\n",
        "print('after adv training',labels)"
      ],
      "metadata": {
        "colab": {
          "base_uri": "https://localhost:8080/"
        },
        "id": "3zN_fETvdoTP",
        "outputId": "397adca7-81ad-4e24-81a5-61afcedf4562"
      },
      "execution_count": null,
      "outputs": [
        {
          "output_type": "stream",
          "name": "stdout",
          "text": [
            "on clear images [ 2  3  4  5  6  9 10 11 12 18]\n",
            "\n",
            "on poisoned images [ 1  2  3  5  6 13 18 19]\n",
            "after adv training [ 2  4  5  6  7  9 10 11 12 18 19]\n"
          ]
        }
      ]
    },
    {
      "cell_type": "markdown",
      "source": [
        "On fine labels"
      ],
      "metadata": {
        "id": "-j06reabneQZ"
      }
    },
    {
      "cell_type": "code",
      "source": [
        "sort_acc = sorted(acc_per_class_clean.items(), key=lambda x:x[1])\n",
        "# print(sorted([i[0] for i in sort_acc[-15:]]))\n",
        "labels = sorted(np.array([i[0] for i in sort_acc[-15:]]))\n",
        "print(' on clear images   ','  '.join(map(str,labels)),end='\\n\\n')\n",
        "sort_acc = sorted(acc_per_class_attack.items(), key=lambda x:x[1])\n",
        "# print(sorted([i[0] for i in sort_acc[-15:]]))\n",
        "labels = sorted(np.array([i[0] for i in sort_acc[-15:]]))\n",
        "print('on poisoned images','  '.join(map(str,labels)))\n",
        "sort_acc = sorted(acc_cl_pgd_at.items(), key=lambda x:x[1])\n",
        "# print(sorted([i[0] for i in sort_acc[-15:]]))\n",
        "labels = sorted(np.array([i[0] for i in sort_acc[-15:]]))\n",
        "print('after adv training','  '.join(map(str,labels)))"
      ],
      "metadata": {
        "colab": {
          "base_uri": "https://localhost:8080/"
        },
        "id": "7P9sfyJGk1MN",
        "outputId": "7f5796b5-cd58-4118-8d0e-adfd80816afa"
      },
      "execution_count": null,
      "outputs": [
        {
          "output_type": "stream",
          "name": "stdout",
          "text": [
            " on clear images    0  8  9  20  21  48  53  58  68  71  75  76  82  87  94\n",
            "\n",
            "on poisoned images 8  9  16  20  28  39  40  41  54  61  70  87  91  94  99\n",
            "after adv training 0  20  21  24  39  41  48  53  58  60  68  75  76  82  94\n"
          ]
        }
      ]
    },
    {
      "cell_type": "markdown",
      "source": [
        "#Check match of hard classes"
      ],
      "metadata": {
        "id": "55_L_Xbuegzs"
      }
    },
    {
      "cell_type": "markdown",
      "source": [
        "On coarse labels"
      ],
      "metadata": {
        "id": "ghRVQe7loB-e"
      }
    },
    {
      "cell_type": "code",
      "source": [
        "sort_acc = sorted(acc_per_class_clean.items(), key=lambda x:x[1])\n",
        "# print(sorted([i[0] for i in sort_acc[-15:]]))\n",
        "labels = np.unique(np.array([fine_id_coarse_id[i[0]] for i in sort_acc[0:15]]))\n",
        "print('on clear images',labels,end = '\\n\\n')\n",
        "sort_acc = sorted(acc_per_class_attack.items(), key=lambda x:x[1])\n",
        "# print(sorted([i[0] for i in sort_acc[-15:]]))\n",
        "labels = np.unique(np.array([fine_id_coarse_id[i[0]] for i in sort_acc[0:15]]))\n",
        "print('on poisoned images',labels)\n",
        "sort_acc = sorted(acc_cl_pgd_at.items(), key=lambda x:x[1])\n",
        "# print(sorted([i[0] for i in sort_acc[-15:]]))\n",
        "labels = np.unique(np.array([fine_id_coarse_id[i[0]] for i in sort_acc[0:15]]))\n",
        "print('after adv training',labels)"
      ],
      "metadata": {
        "colab": {
          "base_uri": "https://localhost:8080/"
        },
        "id": "U_l-imPEestJ",
        "outputId": "f87c791c-9af2-4875-8482-14c8fd4621b6"
      },
      "execution_count": null,
      "outputs": [
        {
          "output_type": "stream",
          "name": "stdout",
          "text": [
            "on clear images [ 0  1  3  8 13 14 15 16 17 18]\n",
            "\n",
            "on poisoned images [ 0  4  7 11 12 14 17 18]\n",
            "after adv training [ 0  3  8 11 13 14 15 16 17]\n"
          ]
        }
      ]
    },
    {
      "cell_type": "markdown",
      "source": [
        "On fine labels"
      ],
      "metadata": {
        "id": "Vgw8UxMkpWZn"
      }
    },
    {
      "cell_type": "code",
      "source": [
        "sort_acc = sorted(acc_per_class_clean.items(), key=lambda x:x[1])\n",
        "# print(sorted([i[0] for i in sort_acc[-15:]]))\n",
        "labels = sorted(np.array([i[0] for i in sort_acc[0:15]]))\n",
        "print(' on clear images   ','  '.join(map(str,labels)),end='\\n\\n')\n",
        "sort_acc = sorted(acc_per_class_attack.items(), key=lambda x:x[1])\n",
        "# print(sorted([i[0] for i in sort_acc[-15:]]))\n",
        "labels = sorted(np.array([i[0] for i in sort_acc[:15]]))\n",
        "print('on poisoned images','  '.join(map(str,labels)))\n",
        "sort_acc = sorted(acc_cl_pgd_at.items(), key=lambda x:x[1])\n",
        "# print(sorted([i[0] for i in sort_acc[-15:]]))\n",
        "labels = sorted(np.array([i[0] for i in sort_acc[:15]]))\n",
        "print('after adv training','  '.join(map(str,labels)))"
      ],
      "metadata": {
        "colab": {
          "base_uri": "https://localhost:8080/"
        },
        "id": "RWPaFhrnoHgY",
        "outputId": "78b09dbe-1f15-4844-d1ec-9ef07808dcae"
      },
      "execution_count": null,
      "outputs": [
        {
          "output_type": "stream",
          "name": "stdout",
          "text": [
            " on clear images    3  10  11  13  27  35  44  45  50  55  65  72  73  74  96\n",
            "\n",
            "on poisoned images 4  6  13  19  21  31  34  35  51  52  55  63  64  66  72\n",
            "after adv training 3  4  10  35  38  44  50  55  65  72  74  79  80  93  96\n"
          ]
        }
      ]
    }
  ],
  "metadata": {
    "colab": {
      "provenance": []
    },
    "kernelspec": {
      "display_name": "Python 3",
      "name": "python3"
    },
    "language_info": {
      "name": "python"
    },
    "accelerator": "GPU",
    "gpuClass": "standard"
  },
  "nbformat": 4,
  "nbformat_minor": 0
}