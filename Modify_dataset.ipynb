{
  "nbformat": 4,
  "nbformat_minor": 0,
  "metadata": {
    "colab": {
      "provenance": []
    },
    "kernelspec": {
      "name": "python3",
      "display_name": "Python 3"
    },
    "language_info": {
      "name": "python"
    },
    "accelerator": "GPU",
    "gpuClass": "standard",
    "widgets": {
      "application/vnd.jupyter.widget-state+json": {
        "ba0eb8699f9c4fce9d2394a66b76e6a8": {
          "model_module": "@jupyter-widgets/controls",
          "model_name": "HBoxModel",
          "model_module_version": "1.5.0",
          "state": {
            "_dom_classes": [],
            "_model_module": "@jupyter-widgets/controls",
            "_model_module_version": "1.5.0",
            "_model_name": "HBoxModel",
            "_view_count": null,
            "_view_module": "@jupyter-widgets/controls",
            "_view_module_version": "1.5.0",
            "_view_name": "HBoxView",
            "box_style": "",
            "children": [
              "IPY_MODEL_86f70a2cf3cd4691a729a68bc261637e",
              "IPY_MODEL_e970f3da36a745b4998bf90c55358ef7",
              "IPY_MODEL_d886f0fe98ba4f1b832583fca4de4a9a"
            ],
            "layout": "IPY_MODEL_ac549b0da3df4e1db7aeb2818a8799f4"
          }
        },
        "86f70a2cf3cd4691a729a68bc261637e": {
          "model_module": "@jupyter-widgets/controls",
          "model_name": "HTMLModel",
          "model_module_version": "1.5.0",
          "state": {
            "_dom_classes": [],
            "_model_module": "@jupyter-widgets/controls",
            "_model_module_version": "1.5.0",
            "_model_name": "HTMLModel",
            "_view_count": null,
            "_view_module": "@jupyter-widgets/controls",
            "_view_module_version": "1.5.0",
            "_view_name": "HTMLView",
            "description": "",
            "description_tooltip": null,
            "layout": "IPY_MODEL_92ce19e1578c4c0091b7131673b6ba9f",
            "placeholder": "​",
            "style": "IPY_MODEL_aa418602bb48476e9ea5708c50722a6a",
            "value": "100%"
          }
        },
        "e970f3da36a745b4998bf90c55358ef7": {
          "model_module": "@jupyter-widgets/controls",
          "model_name": "FloatProgressModel",
          "model_module_version": "1.5.0",
          "state": {
            "_dom_classes": [],
            "_model_module": "@jupyter-widgets/controls",
            "_model_module_version": "1.5.0",
            "_model_name": "FloatProgressModel",
            "_view_count": null,
            "_view_module": "@jupyter-widgets/controls",
            "_view_module_version": "1.5.0",
            "_view_name": "ProgressView",
            "bar_style": "success",
            "description": "",
            "description_tooltip": null,
            "layout": "IPY_MODEL_69d5ecfcbd31453692298dd479ad1a12",
            "max": 169001437,
            "min": 0,
            "orientation": "horizontal",
            "style": "IPY_MODEL_a2cae17e22f240318c09962dccb89ec2",
            "value": 169001437
          }
        },
        "d886f0fe98ba4f1b832583fca4de4a9a": {
          "model_module": "@jupyter-widgets/controls",
          "model_name": "HTMLModel",
          "model_module_version": "1.5.0",
          "state": {
            "_dom_classes": [],
            "_model_module": "@jupyter-widgets/controls",
            "_model_module_version": "1.5.0",
            "_model_name": "HTMLModel",
            "_view_count": null,
            "_view_module": "@jupyter-widgets/controls",
            "_view_module_version": "1.5.0",
            "_view_name": "HTMLView",
            "description": "",
            "description_tooltip": null,
            "layout": "IPY_MODEL_d2ad9944711c44b58e45c7784ce2b53a",
            "placeholder": "​",
            "style": "IPY_MODEL_f8399a1a690f4aacba831ae74ef98637",
            "value": " 169001437/169001437 [00:02&lt;00:00, 79089659.27it/s]"
          }
        },
        "ac549b0da3df4e1db7aeb2818a8799f4": {
          "model_module": "@jupyter-widgets/base",
          "model_name": "LayoutModel",
          "model_module_version": "1.2.0",
          "state": {
            "_model_module": "@jupyter-widgets/base",
            "_model_module_version": "1.2.0",
            "_model_name": "LayoutModel",
            "_view_count": null,
            "_view_module": "@jupyter-widgets/base",
            "_view_module_version": "1.2.0",
            "_view_name": "LayoutView",
            "align_content": null,
            "align_items": null,
            "align_self": null,
            "border": null,
            "bottom": null,
            "display": null,
            "flex": null,
            "flex_flow": null,
            "grid_area": null,
            "grid_auto_columns": null,
            "grid_auto_flow": null,
            "grid_auto_rows": null,
            "grid_column": null,
            "grid_gap": null,
            "grid_row": null,
            "grid_template_areas": null,
            "grid_template_columns": null,
            "grid_template_rows": null,
            "height": null,
            "justify_content": null,
            "justify_items": null,
            "left": null,
            "margin": null,
            "max_height": null,
            "max_width": null,
            "min_height": null,
            "min_width": null,
            "object_fit": null,
            "object_position": null,
            "order": null,
            "overflow": null,
            "overflow_x": null,
            "overflow_y": null,
            "padding": null,
            "right": null,
            "top": null,
            "visibility": null,
            "width": null
          }
        },
        "92ce19e1578c4c0091b7131673b6ba9f": {
          "model_module": "@jupyter-widgets/base",
          "model_name": "LayoutModel",
          "model_module_version": "1.2.0",
          "state": {
            "_model_module": "@jupyter-widgets/base",
            "_model_module_version": "1.2.0",
            "_model_name": "LayoutModel",
            "_view_count": null,
            "_view_module": "@jupyter-widgets/base",
            "_view_module_version": "1.2.0",
            "_view_name": "LayoutView",
            "align_content": null,
            "align_items": null,
            "align_self": null,
            "border": null,
            "bottom": null,
            "display": null,
            "flex": null,
            "flex_flow": null,
            "grid_area": null,
            "grid_auto_columns": null,
            "grid_auto_flow": null,
            "grid_auto_rows": null,
            "grid_column": null,
            "grid_gap": null,
            "grid_row": null,
            "grid_template_areas": null,
            "grid_template_columns": null,
            "grid_template_rows": null,
            "height": null,
            "justify_content": null,
            "justify_items": null,
            "left": null,
            "margin": null,
            "max_height": null,
            "max_width": null,
            "min_height": null,
            "min_width": null,
            "object_fit": null,
            "object_position": null,
            "order": null,
            "overflow": null,
            "overflow_x": null,
            "overflow_y": null,
            "padding": null,
            "right": null,
            "top": null,
            "visibility": null,
            "width": null
          }
        },
        "aa418602bb48476e9ea5708c50722a6a": {
          "model_module": "@jupyter-widgets/controls",
          "model_name": "DescriptionStyleModel",
          "model_module_version": "1.5.0",
          "state": {
            "_model_module": "@jupyter-widgets/controls",
            "_model_module_version": "1.5.0",
            "_model_name": "DescriptionStyleModel",
            "_view_count": null,
            "_view_module": "@jupyter-widgets/base",
            "_view_module_version": "1.2.0",
            "_view_name": "StyleView",
            "description_width": ""
          }
        },
        "69d5ecfcbd31453692298dd479ad1a12": {
          "model_module": "@jupyter-widgets/base",
          "model_name": "LayoutModel",
          "model_module_version": "1.2.0",
          "state": {
            "_model_module": "@jupyter-widgets/base",
            "_model_module_version": "1.2.0",
            "_model_name": "LayoutModel",
            "_view_count": null,
            "_view_module": "@jupyter-widgets/base",
            "_view_module_version": "1.2.0",
            "_view_name": "LayoutView",
            "align_content": null,
            "align_items": null,
            "align_self": null,
            "border": null,
            "bottom": null,
            "display": null,
            "flex": null,
            "flex_flow": null,
            "grid_area": null,
            "grid_auto_columns": null,
            "grid_auto_flow": null,
            "grid_auto_rows": null,
            "grid_column": null,
            "grid_gap": null,
            "grid_row": null,
            "grid_template_areas": null,
            "grid_template_columns": null,
            "grid_template_rows": null,
            "height": null,
            "justify_content": null,
            "justify_items": null,
            "left": null,
            "margin": null,
            "max_height": null,
            "max_width": null,
            "min_height": null,
            "min_width": null,
            "object_fit": null,
            "object_position": null,
            "order": null,
            "overflow": null,
            "overflow_x": null,
            "overflow_y": null,
            "padding": null,
            "right": null,
            "top": null,
            "visibility": null,
            "width": null
          }
        },
        "a2cae17e22f240318c09962dccb89ec2": {
          "model_module": "@jupyter-widgets/controls",
          "model_name": "ProgressStyleModel",
          "model_module_version": "1.5.0",
          "state": {
            "_model_module": "@jupyter-widgets/controls",
            "_model_module_version": "1.5.0",
            "_model_name": "ProgressStyleModel",
            "_view_count": null,
            "_view_module": "@jupyter-widgets/base",
            "_view_module_version": "1.2.0",
            "_view_name": "StyleView",
            "bar_color": null,
            "description_width": ""
          }
        },
        "d2ad9944711c44b58e45c7784ce2b53a": {
          "model_module": "@jupyter-widgets/base",
          "model_name": "LayoutModel",
          "model_module_version": "1.2.0",
          "state": {
            "_model_module": "@jupyter-widgets/base",
            "_model_module_version": "1.2.0",
            "_model_name": "LayoutModel",
            "_view_count": null,
            "_view_module": "@jupyter-widgets/base",
            "_view_module_version": "1.2.0",
            "_view_name": "LayoutView",
            "align_content": null,
            "align_items": null,
            "align_self": null,
            "border": null,
            "bottom": null,
            "display": null,
            "flex": null,
            "flex_flow": null,
            "grid_area": null,
            "grid_auto_columns": null,
            "grid_auto_flow": null,
            "grid_auto_rows": null,
            "grid_column": null,
            "grid_gap": null,
            "grid_row": null,
            "grid_template_areas": null,
            "grid_template_columns": null,
            "grid_template_rows": null,
            "height": null,
            "justify_content": null,
            "justify_items": null,
            "left": null,
            "margin": null,
            "max_height": null,
            "max_width": null,
            "min_height": null,
            "min_width": null,
            "object_fit": null,
            "object_position": null,
            "order": null,
            "overflow": null,
            "overflow_x": null,
            "overflow_y": null,
            "padding": null,
            "right": null,
            "top": null,
            "visibility": null,
            "width": null
          }
        },
        "f8399a1a690f4aacba831ae74ef98637": {
          "model_module": "@jupyter-widgets/controls",
          "model_name": "DescriptionStyleModel",
          "model_module_version": "1.5.0",
          "state": {
            "_model_module": "@jupyter-widgets/controls",
            "_model_module_version": "1.5.0",
            "_model_name": "DescriptionStyleModel",
            "_view_count": null,
            "_view_module": "@jupyter-widgets/base",
            "_view_module_version": "1.2.0",
            "_view_name": "StyleView",
            "description_width": ""
          }
        },
        "fbd6f8cc06c543eda5fc856e0321122b": {
          "model_module": "@jupyter-widgets/controls",
          "model_name": "HBoxModel",
          "model_module_version": "1.5.0",
          "state": {
            "_dom_classes": [],
            "_model_module": "@jupyter-widgets/controls",
            "_model_module_version": "1.5.0",
            "_model_name": "HBoxModel",
            "_view_count": null,
            "_view_module": "@jupyter-widgets/controls",
            "_view_module_version": "1.5.0",
            "_view_name": "HBoxView",
            "box_style": "",
            "children": [
              "IPY_MODEL_8ebb7a34f73a4bba944cd85d819702fd",
              "IPY_MODEL_67178d126bf640dfa1dc37c40d1d16b9",
              "IPY_MODEL_1271b3a53ded48bcaaf77b1933c44368"
            ],
            "layout": "IPY_MODEL_b5c98ae270e647ca9b679d95ef344307"
          }
        },
        "8ebb7a34f73a4bba944cd85d819702fd": {
          "model_module": "@jupyter-widgets/controls",
          "model_name": "HTMLModel",
          "model_module_version": "1.5.0",
          "state": {
            "_dom_classes": [],
            "_model_module": "@jupyter-widgets/controls",
            "_model_module_version": "1.5.0",
            "_model_name": "HTMLModel",
            "_view_count": null,
            "_view_module": "@jupyter-widgets/controls",
            "_view_module_version": "1.5.0",
            "_view_name": "HTMLView",
            "description": "",
            "description_tooltip": null,
            "layout": "IPY_MODEL_ad4e8b161bb04457b7329eac83586c86",
            "placeholder": "​",
            "style": "IPY_MODEL_96416e599b564635ab8be5e6d0f33bbe",
            "value": "100%"
          }
        },
        "67178d126bf640dfa1dc37c40d1d16b9": {
          "model_module": "@jupyter-widgets/controls",
          "model_name": "FloatProgressModel",
          "model_module_version": "1.5.0",
          "state": {
            "_dom_classes": [],
            "_model_module": "@jupyter-widgets/controls",
            "_model_module_version": "1.5.0",
            "_model_name": "FloatProgressModel",
            "_view_count": null,
            "_view_module": "@jupyter-widgets/controls",
            "_view_module_version": "1.5.0",
            "_view_name": "ProgressView",
            "bar_style": "success",
            "description": "",
            "description_tooltip": null,
            "layout": "IPY_MODEL_5076e901472540dc92ccd6d4f1a55701",
            "max": 169001437,
            "min": 0,
            "orientation": "horizontal",
            "style": "IPY_MODEL_f10a966632e44ad2a246585041f2ec91",
            "value": 169001437
          }
        },
        "1271b3a53ded48bcaaf77b1933c44368": {
          "model_module": "@jupyter-widgets/controls",
          "model_name": "HTMLModel",
          "model_module_version": "1.5.0",
          "state": {
            "_dom_classes": [],
            "_model_module": "@jupyter-widgets/controls",
            "_model_module_version": "1.5.0",
            "_model_name": "HTMLModel",
            "_view_count": null,
            "_view_module": "@jupyter-widgets/controls",
            "_view_module_version": "1.5.0",
            "_view_name": "HTMLView",
            "description": "",
            "description_tooltip": null,
            "layout": "IPY_MODEL_3086e0992ccb4f43890f0a9dbdca1806",
            "placeholder": "​",
            "style": "IPY_MODEL_8d10b90607bb411693d76c8893f61617",
            "value": " 169001437/169001437 [00:02&lt;00:00, 101582063.07it/s]"
          }
        },
        "b5c98ae270e647ca9b679d95ef344307": {
          "model_module": "@jupyter-widgets/base",
          "model_name": "LayoutModel",
          "model_module_version": "1.2.0",
          "state": {
            "_model_module": "@jupyter-widgets/base",
            "_model_module_version": "1.2.0",
            "_model_name": "LayoutModel",
            "_view_count": null,
            "_view_module": "@jupyter-widgets/base",
            "_view_module_version": "1.2.0",
            "_view_name": "LayoutView",
            "align_content": null,
            "align_items": null,
            "align_self": null,
            "border": null,
            "bottom": null,
            "display": null,
            "flex": null,
            "flex_flow": null,
            "grid_area": null,
            "grid_auto_columns": null,
            "grid_auto_flow": null,
            "grid_auto_rows": null,
            "grid_column": null,
            "grid_gap": null,
            "grid_row": null,
            "grid_template_areas": null,
            "grid_template_columns": null,
            "grid_template_rows": null,
            "height": null,
            "justify_content": null,
            "justify_items": null,
            "left": null,
            "margin": null,
            "max_height": null,
            "max_width": null,
            "min_height": null,
            "min_width": null,
            "object_fit": null,
            "object_position": null,
            "order": null,
            "overflow": null,
            "overflow_x": null,
            "overflow_y": null,
            "padding": null,
            "right": null,
            "top": null,
            "visibility": null,
            "width": null
          }
        },
        "ad4e8b161bb04457b7329eac83586c86": {
          "model_module": "@jupyter-widgets/base",
          "model_name": "LayoutModel",
          "model_module_version": "1.2.0",
          "state": {
            "_model_module": "@jupyter-widgets/base",
            "_model_module_version": "1.2.0",
            "_model_name": "LayoutModel",
            "_view_count": null,
            "_view_module": "@jupyter-widgets/base",
            "_view_module_version": "1.2.0",
            "_view_name": "LayoutView",
            "align_content": null,
            "align_items": null,
            "align_self": null,
            "border": null,
            "bottom": null,
            "display": null,
            "flex": null,
            "flex_flow": null,
            "grid_area": null,
            "grid_auto_columns": null,
            "grid_auto_flow": null,
            "grid_auto_rows": null,
            "grid_column": null,
            "grid_gap": null,
            "grid_row": null,
            "grid_template_areas": null,
            "grid_template_columns": null,
            "grid_template_rows": null,
            "height": null,
            "justify_content": null,
            "justify_items": null,
            "left": null,
            "margin": null,
            "max_height": null,
            "max_width": null,
            "min_height": null,
            "min_width": null,
            "object_fit": null,
            "object_position": null,
            "order": null,
            "overflow": null,
            "overflow_x": null,
            "overflow_y": null,
            "padding": null,
            "right": null,
            "top": null,
            "visibility": null,
            "width": null
          }
        },
        "96416e599b564635ab8be5e6d0f33bbe": {
          "model_module": "@jupyter-widgets/controls",
          "model_name": "DescriptionStyleModel",
          "model_module_version": "1.5.0",
          "state": {
            "_model_module": "@jupyter-widgets/controls",
            "_model_module_version": "1.5.0",
            "_model_name": "DescriptionStyleModel",
            "_view_count": null,
            "_view_module": "@jupyter-widgets/base",
            "_view_module_version": "1.2.0",
            "_view_name": "StyleView",
            "description_width": ""
          }
        },
        "5076e901472540dc92ccd6d4f1a55701": {
          "model_module": "@jupyter-widgets/base",
          "model_name": "LayoutModel",
          "model_module_version": "1.2.0",
          "state": {
            "_model_module": "@jupyter-widgets/base",
            "_model_module_version": "1.2.0",
            "_model_name": "LayoutModel",
            "_view_count": null,
            "_view_module": "@jupyter-widgets/base",
            "_view_module_version": "1.2.0",
            "_view_name": "LayoutView",
            "align_content": null,
            "align_items": null,
            "align_self": null,
            "border": null,
            "bottom": null,
            "display": null,
            "flex": null,
            "flex_flow": null,
            "grid_area": null,
            "grid_auto_columns": null,
            "grid_auto_flow": null,
            "grid_auto_rows": null,
            "grid_column": null,
            "grid_gap": null,
            "grid_row": null,
            "grid_template_areas": null,
            "grid_template_columns": null,
            "grid_template_rows": null,
            "height": null,
            "justify_content": null,
            "justify_items": null,
            "left": null,
            "margin": null,
            "max_height": null,
            "max_width": null,
            "min_height": null,
            "min_width": null,
            "object_fit": null,
            "object_position": null,
            "order": null,
            "overflow": null,
            "overflow_x": null,
            "overflow_y": null,
            "padding": null,
            "right": null,
            "top": null,
            "visibility": null,
            "width": null
          }
        },
        "f10a966632e44ad2a246585041f2ec91": {
          "model_module": "@jupyter-widgets/controls",
          "model_name": "ProgressStyleModel",
          "model_module_version": "1.5.0",
          "state": {
            "_model_module": "@jupyter-widgets/controls",
            "_model_module_version": "1.5.0",
            "_model_name": "ProgressStyleModel",
            "_view_count": null,
            "_view_module": "@jupyter-widgets/base",
            "_view_module_version": "1.2.0",
            "_view_name": "StyleView",
            "bar_color": null,
            "description_width": ""
          }
        },
        "3086e0992ccb4f43890f0a9dbdca1806": {
          "model_module": "@jupyter-widgets/base",
          "model_name": "LayoutModel",
          "model_module_version": "1.2.0",
          "state": {
            "_model_module": "@jupyter-widgets/base",
            "_model_module_version": "1.2.0",
            "_model_name": "LayoutModel",
            "_view_count": null,
            "_view_module": "@jupyter-widgets/base",
            "_view_module_version": "1.2.0",
            "_view_name": "LayoutView",
            "align_content": null,
            "align_items": null,
            "align_self": null,
            "border": null,
            "bottom": null,
            "display": null,
            "flex": null,
            "flex_flow": null,
            "grid_area": null,
            "grid_auto_columns": null,
            "grid_auto_flow": null,
            "grid_auto_rows": null,
            "grid_column": null,
            "grid_gap": null,
            "grid_row": null,
            "grid_template_areas": null,
            "grid_template_columns": null,
            "grid_template_rows": null,
            "height": null,
            "justify_content": null,
            "justify_items": null,
            "left": null,
            "margin": null,
            "max_height": null,
            "max_width": null,
            "min_height": null,
            "min_width": null,
            "object_fit": null,
            "object_position": null,
            "order": null,
            "overflow": null,
            "overflow_x": null,
            "overflow_y": null,
            "padding": null,
            "right": null,
            "top": null,
            "visibility": null,
            "width": null
          }
        },
        "8d10b90607bb411693d76c8893f61617": {
          "model_module": "@jupyter-widgets/controls",
          "model_name": "DescriptionStyleModel",
          "model_module_version": "1.5.0",
          "state": {
            "_model_module": "@jupyter-widgets/controls",
            "_model_module_version": "1.5.0",
            "_model_name": "DescriptionStyleModel",
            "_view_count": null,
            "_view_module": "@jupyter-widgets/base",
            "_view_module_version": "1.2.0",
            "_view_name": "StyleView",
            "description_width": ""
          }
        }
      }
    }
  },
  "cells": [
    {
      "cell_type": "markdown",
      "source": [
        "**Plan of the work:**\n",
        "\n",
        "1)take model\n",
        "\n",
        "2)take default CIFAR100 dataset\n",
        "\n",
        "3)for fixed n_epochs measure acc after adv training \n",
        "\n",
        "4)construct dataset from CIFAR100 with following changes:\n",
        "\n",
        "*   for hard classes - add their augmented images to the default dataset\n",
        "\n",
        "5)for fixed n_epochs measure acc after adv training \n",
        "\n",
        "6)compare results from 3 and 5."
      ],
      "metadata": {
        "id": "0hEyFEpStijy"
      }
    },
    {
      "cell_type": "code",
      "execution_count": null,
      "metadata": {
        "id": "hpJl24nd99Vf"
      },
      "outputs": [],
      "source": [
        "from torchvision import datasets, models, transforms\n",
        "import matplotlib.image as mpimg\n",
        "import matplotlib.pyplot as plt\n",
        "\n",
        "import torch\n",
        "\n",
        "\n",
        "\n",
        "data_transforms = transforms.Compose([\n",
        "        transforms.RandomResizedCrop(256),\n",
        "        transforms.ToTensor(),\n",
        "        transforms.Normalize([0.485, 0.456, 0.406], [0.229, 0.224, 0.225])\n",
        "        ])"
      ]
    },
    {
      "cell_type": "code",
      "source": [
        "import random\n",
        "import numpy as np\n",
        "\n",
        "def set_seed(seed):\n",
        "    random.seed(seed)\n",
        "    np.random.seed(seed)\n",
        "\n",
        "    torch.manual_seed(seed)\n",
        "    torch.cuda.manual_seed_all(seed)\n",
        "\n",
        "set_seed(42)\n",
        "\n",
        "def clamp(X, lower_limit, upper_limit):\n",
        "    return torch.max(torch.min(X, upper_limit), lower_limit)"
      ],
      "metadata": {
        "id": "d5KP8eL9KIEo"
      },
      "execution_count": null,
      "outputs": []
    },
    {
      "cell_type": "code",
      "source": [
        "NUM_CLASSES = 100\n",
        "\n",
        "from tqdm import tqdm \n",
        "import torch.nn.functional as F\n",
        "\n",
        "def attack_pgd(model, X, y, epsilon, alpha, attack_iters, restarts, lower_limit, upper_limit, args=None):\n",
        "\n",
        "    max_loss = torch.zeros(y.shape[0]).to(device)\n",
        "    max_delta = torch.zeros_like(X).to(device)\n",
        "    scaler = torch.cuda.amp.GradScaler()\n",
        "\n",
        "    for _ in range(restarts):\n",
        "        delta = torch.zeros_like(X).to(device)\n",
        "        for i in range(len(epsilon)):\n",
        "            delta[:, i, :, :].uniform_(-epsilon[i][0][0].item(), epsilon[i][0][0].item())\n",
        "        delta.data = clamp(delta, lower_limit - X, upper_limit - X)\n",
        "        delta.requires_grad = True\n",
        "\n",
        "        for _ in range(attack_iters):\n",
        "            with torch.cuda.amp.autocast():\n",
        "                output = model(X + delta)\n",
        "                index = torch.where(output.max(1)[1] == y)[0]\n",
        "                if len(index) == 0:\n",
        "                    break\n",
        "                loss = F.cross_entropy(output, y)\n",
        "\n",
        "            scaler.scale(loss).backward()\n",
        "            grad = delta.grad.detach()\n",
        "\n",
        "            d = delta[index, :, :, :]\n",
        "            g = grad[index, :, :, :]\n",
        "            d = clamp(d + alpha * torch.sign(g), -epsilon, epsilon)\n",
        "            d = clamp(d, lower_limit - X[index, :, :, :], upper_limit - X[index, :, :, :])\n",
        "\n",
        "            delta.data[index, :, :, :] = d\n",
        "            delta.grad.zero_()\n",
        "\n",
        "        all_loss = F.cross_entropy(model(X + delta), y, reduction='none').detach()\n",
        "        max_delta[all_loss >= max_loss] = delta.detach()[all_loss >= max_loss]\n",
        "        max_loss = torch.max(max_loss, all_loss)\n",
        "\n",
        "    return max_delta\n",
        "\n",
        "\n",
        "def evaluate_pgd(test_loader, model, attack_iters, restarts, epsilon, alpha, lower_limit, upper_limit, args=None):\n",
        "\n",
        "    examples_per_class = {i : 0 for i in range(NUM_CLASSES)}\n",
        "    correct_per_class = {i : 0 for i in range(NUM_CLASSES)}\n",
        "\n",
        "    pgd_loss, pgd_acc = 0, 0\n",
        "    n = 0\n",
        "    model.eval()\n",
        "    for i, (X, y) in enumerate(test_loader):\n",
        "        X, y = X.to(device), y.to(device)\n",
        "        pgd_delta = attack_pgd(model, X, y, epsilon, alpha, attack_iters, restarts, lower_limit, upper_limit, args=args)\n",
        "        with torch.no_grad():\n",
        "            output = model(X + pgd_delta)\n",
        "            preds = output.max(1)[1]\n",
        "            for i in range(NUM_CLASSES):\n",
        "                examples_per_class[i] += len(y[y==i])\n",
        "                correct_per_class[i] += (preds[y==i] == i).sum().item()\n",
        "            loss = F.cross_entropy(output, y)\n",
        "            pgd_loss += loss.item() * y.size(0)\n",
        "            pgd_acc += (output.max(1)[1] == y).sum().item()\n",
        "            n += y.size(0)\n",
        "    acc_per_class = {}\n",
        "    for i in range(NUM_CLASSES):\n",
        "      if examples_per_class[i]:\n",
        "        acc_per_class[i] = correct_per_class[i] / examples_per_class[i]\n",
        "      else:\n",
        "        acc_per_class[i] = -1\n",
        "    return pgd_loss/n, pgd_acc/n,acc_per_class\n",
        "\n",
        "\n",
        "def evaluate_standard(test_loader, model, args=None):\n",
        "    \n",
        "    examples_per_class = {i : 0 for i in range(NUM_CLASSES)}\n",
        "    correct_per_class = {i : 0 for i in range(NUM_CLASSES)}\n",
        "    \n",
        "    test_loss, test_acc = 0, 0\n",
        "    n = 0\n",
        "    model.eval()\n",
        "    with torch.no_grad():\n",
        "        for i, (X, y) in tqdm(enumerate(test_loader), total=len(test_loader)):\n",
        "            X, y = X.to(device), y.to(device)\n",
        "            output = model(X)\n",
        "            preds = output.max(1)[1]\n",
        "            for i in range(NUM_CLASSES):\n",
        "                examples_per_class[i] += len(y[y==i])\n",
        "                correct_per_class[i] += (preds[y==i] == i).sum().item()\n",
        "            loss = F.cross_entropy(output, y)\n",
        "            test_loss += loss.item() * y.size(0)\n",
        "            test_acc += (output.max(1)[1] == y).sum().item()\n",
        "            n += y.size(0)\n",
        "    acc_per_class = {}\n",
        "    for i in range(NUM_CLASSES):\n",
        "      if examples_per_class[i]:\n",
        "        acc_per_class[i] = correct_per_class[i] / examples_per_class[i]\n",
        "      else:\n",
        "        acc_per_class[i] = -1\n",
        "    return test_loss/n, test_acc/n,acc_per_class\n"
      ],
      "metadata": {
        "id": "y5wakhKAsHnq"
      },
      "execution_count": null,
      "outputs": []
    },
    {
      "cell_type": "code",
      "source": [
        "data_dir = 'cifar-100'"
      ],
      "metadata": {
        "id": "zCHzkUgp_AIc"
      },
      "execution_count": null,
      "outputs": []
    },
    {
      "cell_type": "code",
      "source": [
        "train_transform = transforms.Compose([\n",
        "        #transforms.RandomResizedCrop(32),\n",
        "        transforms.RandomHorizontalFlip(),\n",
        "        transforms.GaussianBlur(3,0.6),\n",
        "        transforms.ToTensor(),\n",
        "        transforms.Normalize([0.485, 0.456, 0.406], [0.229, 0.224, 0.225])\n",
        "        ])\n",
        "\n",
        "test_transform = transforms.Compose([\n",
        "        transforms.ToTensor(),\n",
        "        transforms.Normalize([0.485, 0.456, 0.406], [0.229, 0.224, 0.225])\n",
        "        ])\n",
        "\n",
        "train_dataset1 = datasets.CIFAR100(data_dir, train=True, transform=train_transform, download=True)\n",
        "train_dataset2 = datasets.CIFAR100(data_dir, train=True, transform=test_transform, download=True)"
      ],
      "metadata": {
        "colab": {
          "base_uri": "https://localhost:8080/"
        },
        "id": "Q-9bsOFO_EWt",
        "outputId": "04043aec-8b93-49b4-cfd7-9fd78e6fe36b"
      },
      "execution_count": null,
      "outputs": [
        {
          "output_type": "stream",
          "name": "stdout",
          "text": [
            "Files already downloaded and verified\n",
            "Files already downloaded and verified\n"
          ]
        }
      ]
    },
    {
      "cell_type": "code",
      "source": [
        "import numpy as np\n",
        "import matplotlib.pyplot as plt\n",
        "\n",
        "a1 = np.array(train_dataset1[3][0]).transpose(1,2,0)\n",
        "a2 = np.array(train_dataset2[3][0]).transpose(1,2,0)\n",
        "\n",
        "\n",
        "fig,axes = plt.subplots(1,2,figsize=(10,5))\n",
        "axes[0].imshow(a1)\n",
        "axes[1].imshow(a2)"
      ],
      "metadata": {
        "colab": {
          "base_uri": "https://localhost:8080/",
          "height": 354
        },
        "id": "PMoa1jY8_lka",
        "outputId": "987a848f-c8ea-441b-af25-3fdb92170592"
      },
      "execution_count": null,
      "outputs": [
        {
          "output_type": "stream",
          "name": "stderr",
          "text": [
            "WARNING:matplotlib.image:Clipping input data to the valid range for imshow with RGB data ([0..1] for floats or [0..255] for integers).\n",
            "WARNING:matplotlib.image:Clipping input data to the valid range for imshow with RGB data ([0..1] for floats or [0..255] for integers).\n"
          ]
        },
        {
          "output_type": "execute_result",
          "data": {
            "text/plain": [
              "<matplotlib.image.AxesImage at 0x7f0858a7c490>"
            ]
          },
          "metadata": {},
          "execution_count": 6
        },
        {
          "output_type": "display_data",
          "data": {
            "text/plain": [
              "<Figure size 720x360 with 2 Axes>"
            ],
            "image/png": "[encoded data removed]"
          },
          "metadata": {
            "needs_background": "light"
          }
        }
      ]
    },
    {
      "cell_type": "code",
      "execution_count": null,
      "metadata": {
        "id": "nYUdqhh8J3xL"
      },
      "outputs": [],
      "source": [
        "import torch.nn as nn\n",
        "\n",
        "class PreActBlock(nn.Module):\n",
        "    '''Pre-activation version of the BasicBlock.'''\n",
        "    expansion = 1\n",
        "\n",
        "    def __init__(self, in_planes, planes, stride=1):\n",
        "        super().__init__()\n",
        "        self.bn1 = nn.BatchNorm2d(in_planes)\n",
        "        self.conv1 = nn.Conv2d(in_planes, planes, kernel_size=3, stride=stride, padding=1, bias=False)\n",
        "        self.bn2 = nn.BatchNorm2d(planes)\n",
        "        self.conv2 = nn.Conv2d(planes, planes, kernel_size=3, stride=1, padding=1, bias=False)\n",
        "\n",
        "        if (stride != 1) or (in_planes != self.expansion * planes):\n",
        "            self.shortcut = nn.Sequential(\n",
        "                nn.Conv2d(in_planes, self.expansion * planes, kernel_size=1, stride=stride, bias=False)\n",
        "            )\n",
        "\n",
        "    def forward(self, x):\n",
        "        out = F.relu(self.bn1(x))\n",
        "        shortcut = self.shortcut(x) if hasattr(self, 'shortcut') else x\n",
        "        out = self.conv1(out)\n",
        "        out = self.conv2(F.relu(self.bn2(out)))\n",
        "        out += shortcut\n",
        "        return out\n",
        "\n",
        "\n",
        "class PreActBottleneck(nn.Module):\n",
        "    '''Pre-activation version of the original Bottleneck module.'''\n",
        "    expansion = 4\n",
        "\n",
        "    def __init__(self, in_planes, planes, stride=1):\n",
        "        super().__init__()\n",
        "        self.bn1 = nn.BatchNorm2d(in_planes)\n",
        "        self.conv1 = nn.Conv2d(in_planes, planes, kernel_size=1, bias=False)\n",
        "        self.bn2 = nn.BatchNorm2d(planes)\n",
        "        self.conv2 = nn.Conv2d(planes, planes, kernel_size=3, stride=stride, padding=1, bias=False)\n",
        "        self.bn3 = nn.BatchNorm2d(planes)\n",
        "        self.conv3 = nn.Conv2d(planes, self.expansion*planes, kernel_size=1, bias=False)\n",
        "\n",
        "        if (stride != 1) or (in_planes != self.expansion * planes):\n",
        "            self.shortcut = nn.Sequential(\n",
        "                nn.Conv2d(in_planes, self.expansion * planes, kernel_size=1, stride=stride, bias=False)\n",
        "            )\n",
        "\n",
        "    def forward(self, x):\n",
        "        out = F.relu(self.bn1(x))\n",
        "        shortcut = self.shortcut(out) if hasattr(self, 'shortcut') else x\n",
        "        out = self.conv1(out)\n",
        "        out = self.conv2(F.relu(self.bn2(out)))\n",
        "        out = self.conv3(F.relu(self.bn3(out)))\n",
        "        out += shortcut\n",
        "        return out\n",
        "\n",
        "\n",
        "class PreActResNet(nn.Module):\n",
        "    def __init__(self, block, num_blocks, num_classes=10):\n",
        "        super().__init__()\n",
        "        self.in_planes = 64\n",
        "        self.conv1 = nn.Conv2d(3, 64, kernel_size=3, stride=1, padding=1, bias=False)\n",
        "        self.layer1 = self._make_layer(block, 64, num_blocks[0], stride=1)\n",
        "        self.layer2 = self._make_layer(block, 128, num_blocks[1], stride=2)\n",
        "        self.layer3 = self._make_layer(block, 256, num_blocks[2], stride=2)\n",
        "        self.layer4 = self._make_layer(block, 512, num_blocks[3], stride=2)\n",
        "        self.bn = nn.BatchNorm2d(512 * block.expansion)\n",
        "        self.linear = nn.Linear(512 * block.expansion, num_classes)\n",
        "\n",
        "    def _make_layer(self, block, planes, num_blocks, stride):\n",
        "        strides = [stride] + [1] * (num_blocks - 1)\n",
        "        layers = []\n",
        "        for stride in strides:\n",
        "            layers.append(block(self.in_planes, planes, stride))\n",
        "            self.in_planes = planes * block.expansion\n",
        "        return nn.Sequential(*layers)\n",
        "\n",
        "    def forward(self, x):\n",
        "        out = self.conv1(x)\n",
        "        out = self.layer1(out)\n",
        "        out = self.layer2(out)\n",
        "        out = self.layer3(out)\n",
        "        out = self.layer4(out)\n",
        "        out = F.relu(self.bn(out))\n",
        "        out = F.avg_pool2d(out, 4)\n",
        "        out = out.view(out.size(0), -1)\n",
        "        out = self.linear(out)\n",
        "        return out\n",
        "\n",
        "\n",
        "def PreActResNet18(num_classes=10):\n",
        "    return PreActResNet(PreActBlock, [2, 2, 2, 2], num_classes)"
      ]
    },
    {
      "cell_type": "code",
      "source": [
        "hard_classes = [13,35,55,72,96,10,44,65,74,4]\n",
        "easy_classes = [8,9,20,87,94,21,41,39,53,68]\n",
        "\n",
        "hard_classes.index(55)"
      ],
      "metadata": {
        "id": "sDQsNJyNHikl",
        "colab": {
          "base_uri": "https://localhost:8080/"
        },
        "outputId": "fe3822ff-98af-41c3-85c0-27ae43af1f87"
      },
      "execution_count": null,
      "outputs": [
        {
          "output_type": "execute_result",
          "data": {
            "text/plain": [
              "2"
            ]
          },
          "metadata": {},
          "execution_count": 8
        }
      ]
    },
    {
      "cell_type": "code",
      "source": [
        "X_all,y_all = train_dataset1.data, torch.LongTensor(train_dataset1.targets)\n",
        "X_all_sampled, y_all_sampled = [], []\n",
        "\n",
        "for c in torch.unique(y_all):\n",
        "    X_all_c, y_all_c = X_all[y_all==c], y_all[y_all==c]\n",
        "    \n",
        "    if c in hard_classes:\n",
        "        num_samples = len(X_all_c)\n",
        "        sampled_indices = torch.randperm(num_samples)\n",
        "        X_all_sampled.append(X_all_c[sampled_indices])\n",
        "        y_all_sampled.append(torch.LongTensor([hard_classes.index(c)]*num_samples))\n",
        "        \n",
        "    \n",
        "X_all_sampled = np.concatenate(X_all_sampled, axis=0)\n",
        "y_all_sampled = list(torch.cat(y_all_sampled, dim=0).numpy())\n",
        "\n",
        "X_all_sampled.shape\n",
        "\n",
        "from sklearn.model_selection import train_test_split\n",
        "\n",
        "x_train,x_test,y_train,y_test = train_test_split(X_all_sampled,y_all_sampled,test_size=0.25)"
      ],
      "metadata": {
        "id": "ZGFULWIaE89a"
      },
      "execution_count": null,
      "outputs": []
    },
    {
      "cell_type": "code",
      "source": [
        "def get_train_loader(data_dir, X, y, batch_size=32, augment=True, shuffle=True, args=None):\n",
        "\n",
        "    train_transform = test_transform = transforms.Compose([\n",
        "        transforms.ToTensor(),\n",
        "        transforms.Normalize([0.485, 0.456, 0.406], [0.229, 0.224, 0.225])\n",
        "        ])\n",
        "    train_dataset = datasets.CIFAR100(\n",
        "            data_dir, train=True, transform=train_transform, download=True\n",
        "        ) # we don't care what data here, we made it for getting appropriate transform\n",
        "    train_dataset.data = X\n",
        "    train_dataset.targets = y\n",
        "\n",
        "    train_loader = torch.utils.data.DataLoader(\n",
        "        dataset=train_dataset,\n",
        "        batch_size=batch_size, shuffle=shuffle,\n",
        "        pin_memory=True, num_workers=2,drop_last=True\n",
        "    )\n",
        "    return train_loader\n",
        "\n",
        "train_loader = get_train_loader('cifar-train',x_train,y_train)\n",
        "test_loader = get_train_loader('cifar-test',x_test,y_test)"
      ],
      "metadata": {
        "colab": {
          "base_uri": "https://localhost:8080/"
        },
        "id": "1hOhycaHSdUm",
        "outputId": "92812956-fcb1-413f-c77b-cfe2e3b1fadb"
      },
      "execution_count": null,
      "outputs": [
        {
          "output_type": "stream",
          "name": "stdout",
          "text": [
            "Files already downloaded and verified\n",
            "Files already downloaded and verified\n"
          ]
        }
      ]
    },
    {
      "cell_type": "code",
      "source": [
        "train_transform = test_transform = transforms.Compose([\n",
        "    transforms.ToTensor(),\n",
        "    transforms.Normalize([0.485, 0.456, 0.406], [0.229, 0.224, 0.225])\n",
        "    ])\n",
        "train_dataset = datasets.CIFAR100(\n",
        "        'cifar_base_train', train=True, transform=train_transform, download=True\n",
        "    )\n",
        "test_dataset = datasets.CIFAR100(\n",
        "        'cifar_base_test', train=False, transform=train_transform, download=True\n",
        "    )\n",
        "\n",
        "train_loader = torch.utils.data.DataLoader(\n",
        "    dataset=train_dataset,\n",
        "    batch_size=32, shuffle=True,\n",
        "    pin_memory=True, num_workers=2,drop_last=True\n",
        ")\n",
        "test_loader = torch.utils.data.DataLoader(\n",
        "    dataset=test_dataset,\n",
        "    batch_size=32, shuffle=True,\n",
        "    pin_memory=True, num_workers=2,drop_last=True\n",
        ")"
      ],
      "metadata": {
        "colab": {
          "base_uri": "https://localhost:8080/",
          "height": 150,
          "referenced_widgets": [
            "ba0eb8699f9c4fce9d2394a66b76e6a8",
            "86f70a2cf3cd4691a729a68bc261637e",
            "e970f3da36a745b4998bf90c55358ef7",
            "d886f0fe98ba4f1b832583fca4de4a9a",
            "ac549b0da3df4e1db7aeb2818a8799f4",
            "92ce19e1578c4c0091b7131673b6ba9f",
            "aa418602bb48476e9ea5708c50722a6a",
            "69d5ecfcbd31453692298dd479ad1a12",
            "a2cae17e22f240318c09962dccb89ec2",
            "d2ad9944711c44b58e45c7784ce2b53a",
            "f8399a1a690f4aacba831ae74ef98637",
            "fbd6f8cc06c543eda5fc856e0321122b",
            "8ebb7a34f73a4bba944cd85d819702fd",
            "67178d126bf640dfa1dc37c40d1d16b9",
            "1271b3a53ded48bcaaf77b1933c44368",
            "b5c98ae270e647ca9b679d95ef344307",
            "ad4e8b161bb04457b7329eac83586c86",
            "96416e599b564635ab8be5e6d0f33bbe",
            "5076e901472540dc92ccd6d4f1a55701",
            "f10a966632e44ad2a246585041f2ec91",
            "3086e0992ccb4f43890f0a9dbdca1806",
            "8d10b90607bb411693d76c8893f61617"
          ]
        },
        "id": "VoNtbSvuH5c4",
        "outputId": "ac7397dc-ad44-43cf-eb85-633d0bc810a2"
      },
      "execution_count": null,
      "outputs": [
        {
          "output_type": "stream",
          "name": "stdout",
          "text": [
            "Downloading https://www.cs.toronto.edu/~kriz/cifar-100-python.tar.gz to cifar_base_train/cifar-100-python.tar.gz\n"
          ]
        },
        {
          "output_type": "display_data",
          "data": {
            "text/plain": [
              "  0%|          | 0/169001437 [00:00<?, ?it/s]"
            ],
            "application/vnd.jupyter.widget-view+json": {
              "version_major": 2,
              "version_minor": 0,
              "model_id": "ba0eb8699f9c4fce9d2394a66b76e6a8"
            }
          },
          "metadata": {}
        },
        {
          "output_type": "stream",
          "name": "stdout",
          "text": [
            "Extracting cifar_base_train/cifar-100-python.tar.gz to cifar_base_train\n",
            "Downloading https://www.cs.toronto.edu/~kriz/cifar-100-python.tar.gz to cifar_base_test/cifar-100-python.tar.gz\n"
          ]
        },
        {
          "output_type": "display_data",
          "data": {
            "text/plain": [
              "  0%|          | 0/169001437 [00:00<?, ?it/s]"
            ],
            "application/vnd.jupyter.widget-view+json": {
              "version_major": 2,
              "version_minor": 0,
              "model_id": "fbd6f8cc06c543eda5fc856e0321122b"
            }
          },
          "metadata": {}
        },
        {
          "output_type": "stream",
          "name": "stdout",
          "text": [
            "Extracting cifar_base_test/cifar-100-python.tar.gz to cifar_base_test\n"
          ]
        }
      ]
    },
    {
      "cell_type": "code",
      "source": [
        "device = 'cuda' if torch.cuda.is_available() else 'cpu'\n",
        "\n",
        "\n",
        "weight_decay = 5e-4\n",
        "epsilon = 8\n",
        "batch_size = 32\n",
        "alpha = 2\n",
        "loss_weight = 0.3\n",
        "fgsm_step = 1\n",
        "delta_init = 'random'\n",
        "model = PreActResNet18(num_classes=100).to(device)\n",
        "model.train()\n",
        "\n",
        "optimizer = torch.optim.Adam(model.parameters(),lr=3e-4,weight_decay=weight_decay)\n",
        "scaler = torch.cuda.amp.GradScaler()\n",
        "criterion = nn.CrossEntropyLoss()\n",
        "\n",
        "data_mean = (0.5071, 0.4865, 0.4409)\n",
        "data_std = (0.2673, 0.2564, 0.2762)\n",
        "\n",
        "mu = torch.tensor(data_mean).view(3, 1, 1).to(device)\n",
        "std = torch.tensor(data_std).view(3, 1, 1).to(device)\n",
        "upper_limit = ((1 - mu) / std)\n",
        "lower_limit = ((0 - mu) / std)\n",
        "epsilon = (epsilon / 255.) / std\n",
        "alpha = (alpha / 255.) / std\n",
        "\n",
        "if delta_init == 'previous':\n",
        "    delta = torch.zeros(batch_size, 3, 32, 32).to(device)\n",
        "\n",
        "prev_robust_acc = 0."
      ],
      "metadata": {
        "id": "ya3GzA8-Uoih"
      },
      "execution_count": null,
      "outputs": []
    },
    {
      "cell_type": "code",
      "source": [
        "#model = PreActResNet18(num_classes=100).to(device)\n",
        "\n",
        "optimizer = torch.optim.Adam(model.parameters(),lr=1e-4,weight_decay=weight_decay)\n",
        "\n",
        "epochs = 7\n",
        "loop = tqdm(range(epochs))\n",
        "for epoch in loop:\n",
        "    train_loss,train_acc,train_n = 0,0,0\n",
        "    if epoch > 12:\n",
        "      optimizer.param_groups[0]['lr'] = 0.5e-4\n",
        "\n",
        "    model.train()\n",
        "    for i, (X, y) in enumerate(train_loader):\n",
        "        optimizer.zero_grad()\n",
        "        X, y = X.to(device), y.to(device)\n",
        "        if delta_init != 'previous':\n",
        "            delta = torch.zeros_like(X).to(device)\n",
        "        if delta_init == 'random':\n",
        "            for j in range(len(epsilon)):\n",
        "                delta[:, j, :, :].uniform_(-epsilon[j][0][0].item(), epsilon[j][0][0].item())\n",
        "            delta.data = clamp(delta, lower_limit - X, upper_limit - X)\n",
        "        if fgsm_step == 1:\n",
        "            delta.requires_grad = True\n",
        "            for _ in range(3):\n",
        "                output = model(X + delta[:X.size(0)])\n",
        "                loss = F.cross_entropy(output, y)\n",
        "                scaler.scale(loss).backward()\n",
        "                grad = delta.grad.detach()\n",
        "                scaler.step(optimizer)\n",
        "                scaler.update()\n",
        "                delta.data = clamp(delta + alpha * torch.sign(grad), -epsilon, epsilon) \n",
        "                delta.data[:X.size(0)] = clamp(delta[:X.size(0)], lower_limit - X, upper_limit - X)\n",
        "            delta = delta.detach()\n",
        "            output = model(X + delta[:X.size(0)])\n",
        "            loss = (1 - loss_weight) * criterion(output, y) + loss_weight * criterion(model(X), y)\n",
        "            scaler.scale(loss).backward()\n",
        "            scaler.step(optimizer)\n",
        "            scaler.update()\n",
        "            \n",
        "        train_loss += loss.item() * y.size(0)\n",
        "        train_acc += (output.max(1)[1] == y).sum().item()\n",
        "        train_n += y.size(0)\n",
        "      \n",
        "    model.eval()\n",
        "    pgd_loss, pgd_acc, acc_cl_pgd_at = evaluate_pgd(test_loader, model, 1, 5, epsilon, alpha, \n",
        "                                  lower_limit, upper_limit)\n",
        "    \n",
        "    if pgd_acc >= 0.4:\n",
        "      best_state_dict = model.state_dict()\n",
        "      torch.save(best_state_dict,'model_default_good.pth')\n",
        "      \n",
        "    loop.set_description(f'train acc: {round(train_acc / train_n,3)} test acc: {pgd_acc}')"
      ],
      "metadata": {
        "colab": {
          "base_uri": "https://localhost:8080/"
        },
        "id": "shrm4MpIU2mA",
        "outputId": "b90eedd7-0b1f-4d04-9c95-6cf92a93fa4c"
      },
      "execution_count": null,
      "outputs": [
        {
          "output_type": "stream",
          "name": "stderr",
          "text": [
            "train acc: 0.336 test acc: 0.3880208333333333: 100%|██████████| 7/7 [39:28<00:00, 338.32s/it]\n"
          ]
        }
      ]
    },
    {
      "cell_type": "code",
      "source": [
        "pgd_loss, pgd_acc, acc_cl_pgd_at1 = evaluate_pgd(test_loader, model, 1, 5, epsilon, alpha, \n",
        "                                  lower_limit, upper_limit)\n",
        "print(pgd_acc)\n",
        "test_loss, test_acc, acc_cl_standart_at1 = evaluate_standard(test_loader, model)\n",
        "print(test_acc)"
      ],
      "metadata": {
        "colab": {
          "base_uri": "https://localhost:8080/"
        },
        "id": "7NqRUrKEOsUW",
        "outputId": "aeaabbc3-ba77-46b8-e616-e0bc3de3ab24"
      },
      "execution_count": null,
      "outputs": [
        {
          "output_type": "stream",
          "name": "stdout",
          "text": [
            "0.3892227564102564\n"
          ]
        },
        {
          "output_type": "stream",
          "name": "stderr",
          "text": [
            "100%|██████████| 312/312 [00:12<00:00, 25.35it/s]"
          ]
        },
        {
          "output_type": "stream",
          "name": "stdout",
          "text": [
            "0.5045072115384616\n"
          ]
        },
        {
          "output_type": "stream",
          "name": "stderr",
          "text": [
            "\n"
          ]
        }
      ]
    },
    {
      "cell_type": "code",
      "source": [
        "pgd_loss, pgd_acc, acc_cl_pgd_at1 = evaluate_pgd(test_loader, model, 1, 5, epsilon, alpha, \n",
        "                                  lower_limit, upper_limit)\n",
        "print(pgd_acc)\n",
        "test_loss, test_acc, acc_cl_standart_at1 = evaluate_standard(test_loader, model)\n",
        "print(test_acc)"
      ],
      "metadata": {
        "colab": {
          "base_uri": "https://localhost:8080/"
        },
        "id": "q20v1vzqKw4S",
        "outputId": "4801d84c-686b-42ff-9cec-24f01d2f5041"
      },
      "execution_count": null,
      "outputs": [
        {
          "output_type": "stream",
          "name": "stdout",
          "text": [
            "0.3837139423076923\n"
          ]
        },
        {
          "output_type": "stream",
          "name": "stderr",
          "text": [
            "100%|██████████| 312/312 [00:11<00:00, 26.72it/s]"
          ]
        },
        {
          "output_type": "stream",
          "name": "stdout",
          "text": [
            "0.49459134615384615\n"
          ]
        },
        {
          "output_type": "stream",
          "name": "stderr",
          "text": [
            "\n"
          ]
        }
      ]
    },
    {
      "cell_type": "code",
      "source": [
        "best_state_dict = model.state_dict()\n",
        "torch.save(best_state_dict,'model_comb_38.pth')\n"
      ],
      "metadata": {
        "id": "GLvYgSayFaEt"
      },
      "execution_count": null,
      "outputs": []
    },
    {
      "cell_type": "markdown",
      "source": [
        "Training after 7 epochs on\n",
        "base_data + extra hard-class data\n",
        " gives 27% accuracy (vs 33 on default dataset)."
      ],
      "metadata": {
        "id": "YoTaLCzXukOy"
      }
    },
    {
      "cell_type": "markdown",
      "source": [
        "default + hard-class (augmented) - 0.384 (on attack test) and 0.495 (on default test)\n",
        "\n",
        "default - 0.389 (on attack test) and 0.505 (on default test)\n",
        "\n",
        "Addition of extra augmented images (with hard class labels) does not seem to improve performance of training."
      ],
      "metadata": {
        "id": "Mi5ljClLlvFL"
      }
    }
  ]
}