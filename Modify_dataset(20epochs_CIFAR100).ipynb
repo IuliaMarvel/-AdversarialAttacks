{
  "nbformat": 4,
  "nbformat_minor": 0,
  "metadata": {
    "colab": {
      "provenance": []
    },
    "kernelspec": {
      "name": "python3",
      "display_name": "Python 3"
    },
    "language_info": {
      "name": "python"
    },
    "accelerator": "GPU",
    "gpuClass": "standard"
  },
  "cells": [
    {
      "cell_type": "markdown",
      "source": [
        "**Plan of the work:**\n",
        "\n",
        "1)take model\n",
        "\n",
        "2)take default CIFAR100 dataset\n",
        "\n",
        "3)for fixed n_epochs measure acc after adv training \n",
        "\n",
        "4)construct dataset from CIFAR100 with following changes:\n",
        "\n",
        "*   for hard classes - add their augmented images to the default dataset\n",
        "\n",
        "5)for fixed n_epochs measure acc after adv training \n",
        "\n",
        "6)compare results from 3 and 5."
      ],
      "metadata": {
        "id": "0hEyFEpStijy"
      }
    },
    {
      "cell_type": "code",
      "execution_count": 1,
      "metadata": {
        "id": "hpJl24nd99Vf"
      },
      "outputs": [],
      "source": [
        "from torchvision import datasets, models, transforms\n",
        "import matplotlib.image as mpimg\n",
        "import matplotlib.pyplot as plt\n",
        " \n",
        "import torch\n",
        "\n",
        "\n",
        "\n",
        "data_transforms = transforms.Compose([\n",
        "        transforms.RandomResizedCrop(256),\n",
        "        transforms.ToTensor(),\n",
        "        transforms.Normalize([0.485, 0.456, 0.406], [0.229, 0.224, 0.225])\n",
        "        ])"
      ]
    },
    {
      "cell_type": "code",
      "source": [
        "import random\n",
        "import numpy as np\n",
        "\n",
        "def set_seed(seed):\n",
        "    random.seed(seed)\n",
        "    np.random.seed(seed)\n",
        "\n",
        "    torch.manual_seed(seed)\n",
        "    torch.cuda.manual_seed_all(seed)\n",
        "\n",
        "set_seed(42)\n",
        "\n",
        "def clamp(X, lower_limit, upper_limit):\n",
        "    return torch.max(torch.min(X, upper_limit), lower_limit)"
      ],
      "metadata": {
        "id": "d5KP8eL9KIEo"
      },
      "execution_count": 2,
      "outputs": []
    },
    {
      "cell_type": "code",
      "source": [
        "NUM_CLASSES = 100\n",
        "\n",
        "from tqdm import tqdm \n",
        "import torch.nn.functional as F\n",
        "\n",
        "def attack_pgd(model, X, y, epsilon, alpha, attack_iters, restarts, lower_limit, upper_limit, args=None):\n",
        "\n",
        "    max_loss = torch.zeros(y.shape[0]).to(device)\n",
        "    max_delta = torch.zeros_like(X).to(device)\n",
        "    scaler = torch.cuda.amp.GradScaler()\n",
        "\n",
        "    for _ in range(restarts):\n",
        "        delta = torch.zeros_like(X).to(device)\n",
        "        for i in range(len(epsilon)):\n",
        "            delta[:, i, :, :].uniform_(-epsilon[i][0][0].item(), epsilon[i][0][0].item())\n",
        "        delta.data = clamp(delta, lower_limit - X, upper_limit - X)\n",
        "        delta.requires_grad = True\n",
        "\n",
        "        for _ in range(attack_iters):\n",
        "            with torch.cuda.amp.autocast():\n",
        "                output = model(X + delta)\n",
        "                index = torch.where(output.max(1)[1] == y)[0]\n",
        "                if len(index) == 0:\n",
        "                    break\n",
        "                loss = F.cross_entropy(output, y)\n",
        "            scaler.scale(loss).backward()\n",
        "            grad = delta.grad.detach()\n",
        "\n",
        "            d = delta[index, :, :, :]\n",
        "            g = grad[index, :, :, :]\n",
        "            d = clamp(d + alpha * torch.sign(g), -epsilon, epsilon)\n",
        "            d = clamp(d, lower_limit - X[index, :, :, :], upper_limit - X[index, :, :, :])\n",
        "\n",
        "            delta.data[index, :, :, :] = d\n",
        "            delta.grad.zero_()\n",
        "\n",
        "        all_loss = F.cross_entropy(model(X + delta), y, reduction='none').detach()\n",
        "        max_delta[all_loss >= max_loss] = delta.detach()[all_loss >= max_loss]\n",
        "        max_loss = torch.max(max_loss, all_loss)\n",
        "\n",
        "    return max_delta\n",
        "\n",
        "\n",
        "def evaluate_pgd(test_loader, model, attack_iters, restarts, epsilon, alpha, lower_limit, upper_limit, args=None):\n",
        "\n",
        "    examples_per_class = {i : 0 for i in range(NUM_CLASSES)}\n",
        "    correct_per_class = {i : 0 for i in range(NUM_CLASSES)}\n",
        "\n",
        "    pgd_loss, pgd_acc = 0, 0\n",
        "    n = 0\n",
        "    model.eval()\n",
        "    for i, (X, y) in enumerate(test_loader):\n",
        "        X, y = X.to(device), y.to(device)\n",
        "        pgd_delta = attack_pgd(model, X, y, epsilon, alpha, attack_iters, restarts, lower_limit, upper_limit, args=args)\n",
        "        with torch.no_grad():\n",
        "            output = model(X + pgd_delta)\n",
        "            preds = output.max(1)[1]\n",
        "            for i in range(NUM_CLASSES):\n",
        "                examples_per_class[i] += len(y[y==i])\n",
        "                correct_per_class[i] += (preds[y==i] == i).sum().item()\n",
        "            loss = F.cross_entropy(output, y)\n",
        "            pgd_loss += loss.item() * y.size(0)\n",
        "            pgd_acc += (output.max(1)[1] == y).sum().item()\n",
        "            n += y.size(0)\n",
        "    acc_per_class = {}\n",
        "    for i in range(NUM_CLASSES):\n",
        "      if examples_per_class[i]:\n",
        "        acc_per_class[i] = correct_per_class[i] / examples_per_class[i]\n",
        "      else:\n",
        "        acc_per_class[i] = -1\n",
        "    return pgd_loss/n, pgd_acc/n,acc_per_class\n",
        "\n",
        "\n",
        "def evaluate_standard(test_loader, model, args=None):\n",
        "    \n",
        "    examples_per_class = {i : 0 for i in range(NUM_CLASSES)}\n",
        "    correct_per_class = {i : 0 for i in range(NUM_CLASSES)}\n",
        "    \n",
        "    test_loss, test_acc = 0, 0\n",
        "    n = 0\n",
        "    model.eval()\n",
        "    with torch.no_grad():\n",
        "        for i, (X, y) in enumerate(test_loader):\n",
        "            X, y = X.to(device), y.to(device)\n",
        "            output = model(X)\n",
        "            preds = output.max(1)[1]\n",
        "            for i in range(NUM_CLASSES):\n",
        "                examples_per_class[i] += len(y[y==i])\n",
        "                correct_per_class[i] += (preds[y==i] == i).sum().item()\n",
        "            loss = F.cross_entropy(output, y)\n",
        "            test_loss += loss.item() * y.size(0)\n",
        "            test_acc += (output.max(1)[1] == y).sum().item()\n",
        "            n += y.size(0)\n",
        "    acc_per_class = {}\n",
        "    for i in range(NUM_CLASSES):\n",
        "      if examples_per_class[i]:\n",
        "        acc_per_class[i] = correct_per_class[i] / examples_per_class[i]\n",
        "      else:\n",
        "        acc_per_class[i] = -1\n",
        "    return test_loss/n, test_acc/n,acc_per_class\n"
      ],
      "metadata": {
        "id": "y5wakhKAsHnq"
      },
      "execution_count": 3,
      "outputs": []
    },
    {
      "cell_type": "code",
      "source": [
        "data_dir = 'cifar-100'"
      ],
      "metadata": {
        "id": "zCHzkUgp_AIc"
      },
      "execution_count": 4,
      "outputs": []
    },
    {
      "cell_type": "code",
      "source": [
        "train_transform = transforms.Compose([\n",
        "        #transforms.RandomResizedCrop(32),\n",
        "        transforms.RandomHorizontalFlip(),\n",
        "        transforms.GaussianBlur(3,0.6),\n",
        "        transforms.ToTensor(),\n",
        "        transforms.Normalize([0.485, 0.456, 0.406], [0.229, 0.224, 0.225])\n",
        "        ])\n",
        "\n",
        "test_transform = transforms.Compose([\n",
        "        transforms.ToTensor(),\n",
        "        transforms.Normalize([0.485, 0.456, 0.406], [0.229, 0.224, 0.225])\n",
        "        ])\n",
        "\n",
        "train_dataset1 = datasets.CIFAR100(data_dir, train=True, transform=train_transform, download=True)\n",
        "train_dataset2 = datasets.CIFAR100(data_dir, train=True, transform=test_transform, download=True)"
      ],
      "metadata": {
        "colab": {
          "base_uri": "https://localhost:8080/"
        },
        "id": "Q-9bsOFO_EWt",
        "outputId": "2b0da6ae-fea5-403e-f6ca-e0e0f9708869"
      },
      "execution_count": 5,
      "outputs": [
        {
          "output_type": "stream",
          "name": "stdout",
          "text": [
            "Files already downloaded and verified\n",
            "Files already downloaded and verified\n"
          ]
        }
      ]
    },
    {
      "cell_type": "code",
      "source": [
        "import numpy as np\n",
        "import matplotlib.pyplot as plt\n",
        "\n",
        "a1 = np.array(train_dataset1[3][0]).transpose(1,2,0)\n",
        "a2 = np.array(train_dataset2[3][0]).transpose(1,2,0)\n",
        "\n",
        "\n",
        "fig,axes = plt.subplots(1,2,figsize=(10,5))\n",
        "axes[0].imshow(a1)\n",
        "axes[1].imshow(a2)"
      ],
      "metadata": {
        "colab": {
          "base_uri": "https://localhost:8080/",
          "height": 354
        },
        "id": "PMoa1jY8_lka",
        "outputId": "c2322a66-cb39-42f2-9f11-0dd0cca6db9c"
      },
      "execution_count": 6,
      "outputs": [
        {
          "output_type": "stream",
          "name": "stderr",
          "text": [
            "WARNING:matplotlib.image:Clipping input data to the valid range for imshow with RGB data ([0..1] for floats or [0..255] for integers).\n",
            "WARNING:matplotlib.image:Clipping input data to the valid range for imshow with RGB data ([0..1] for floats or [0..255] for integers).\n"
          ]
        },
        {
          "output_type": "execute_result",
          "data": {
            "text/plain": [
              "<matplotlib.image.AxesImage at 0x7f1048766df0>"
            ]
          },
          "metadata": {},
          "execution_count": 6
        },
        {
          "output_type": "display_data",
          "data": {
            "text/plain": [
              "<Figure size 720x360 with 2 Axes>"
            ],
            "image/png": "[encoded data removed]"
          },
          "metadata": {
            "needs_background": "light"
          }
        }
      ]
    },
    {
      "cell_type": "code",
      "execution_count": 7,
      "metadata": {
        "id": "nYUdqhh8J3xL"
      },
      "outputs": [],
      "source": [
        "import torch.nn as nn\n",
        "\n",
        "class PreActBlock(nn.Module):\n",
        "    '''Pre-activation version of the BasicBlock.'''\n",
        "    expansion = 1\n",
        "\n",
        "    def __init__(self, in_planes, planes, stride=1):\n",
        "        super().__init__()\n",
        "        self.bn1 = nn.BatchNorm2d(in_planes)\n",
        "        self.conv1 = nn.Conv2d(in_planes, planes, kernel_size=3, stride=stride, padding=1, bias=False)\n",
        "        self.bn2 = nn.BatchNorm2d(planes)\n",
        "        self.conv2 = nn.Conv2d(planes, planes, kernel_size=3, stride=1, padding=1, bias=False)\n",
        "\n",
        "        if (stride != 1) or (in_planes != self.expansion * planes):\n",
        "            self.shortcut = nn.Sequential(\n",
        "                nn.Conv2d(in_planes, self.expansion * planes, kernel_size=1, stride=stride, bias=False)\n",
        "            )\n",
        "\n",
        "    def forward(self, x):\n",
        "        out = F.relu(self.bn1(x))\n",
        "        shortcut = self.shortcut(x) if hasattr(self, 'shortcut') else x\n",
        "        out = self.conv1(out)\n",
        "        out = self.conv2(F.relu(self.bn2(out)))\n",
        "        out += shortcut\n",
        "        return out\n",
        "\n",
        "\n",
        "class PreActBottleneck(nn.Module):\n",
        "    '''Pre-activation version of the original Bottleneck module.'''\n",
        "    expansion = 4\n",
        "\n",
        "    def __init__(self, in_planes, planes, stride=1):\n",
        "        super().__init__()\n",
        "        self.bn1 = nn.BatchNorm2d(in_planes)\n",
        "        self.conv1 = nn.Conv2d(in_planes, planes, kernel_size=1, bias=False)\n",
        "        self.bn2 = nn.BatchNorm2d(planes)\n",
        "        self.conv2 = nn.Conv2d(planes, planes, kernel_size=3, stride=stride, padding=1, bias=False)\n",
        "        self.bn3 = nn.BatchNorm2d(planes)\n",
        "        self.conv3 = nn.Conv2d(planes, self.expansion*planes, kernel_size=1, bias=False)\n",
        "\n",
        "        if (stride != 1) or (in_planes != self.expansion * planes):\n",
        "            self.shortcut = nn.Sequential(\n",
        "                nn.Conv2d(in_planes, self.expansion * planes, kernel_size=1, stride=stride, bias=False)\n",
        "            )\n",
        "\n",
        "    def forward(self, x):\n",
        "        out = F.relu(self.bn1(x))\n",
        "        shortcut = self.shortcut(out) if hasattr(self, 'shortcut') else x\n",
        "        out = self.conv1(out)\n",
        "        out = self.conv2(F.relu(self.bn2(out)))\n",
        "        out = self.conv3(F.relu(self.bn3(out)))\n",
        "        out += shortcut\n",
        "        return out\n",
        "\n",
        "\n",
        "class PreActResNet(nn.Module):\n",
        "    def __init__(self, block, num_blocks, num_classes=10):\n",
        "        super().__init__()\n",
        "        self.in_planes = 64\n",
        "        self.conv1 = nn.Conv2d(3, 64, kernel_size=3, stride=1, padding=1, bias=False)\n",
        "        self.layer1 = self._make_layer(block, 64, num_blocks[0], stride=1)\n",
        "        self.layer2 = self._make_layer(block, 128, num_blocks[1], stride=2)\n",
        "        self.layer3 = self._make_layer(block, 256, num_blocks[2], stride=2)\n",
        "        self.layer4 = self._make_layer(block, 512, num_blocks[3], stride=2)\n",
        "        self.bn = nn.BatchNorm2d(512 * block.expansion)\n",
        "        self.linear = nn.Linear(512 * block.expansion, num_classes)\n",
        "\n",
        "    def _make_layer(self, block, planes, num_blocks, stride):\n",
        "        strides = [stride] + [1] * (num_blocks - 1)\n",
        "        layers = []\n",
        "        for stride in strides:\n",
        "            layers.append(block(self.in_planes, planes, stride))\n",
        "            self.in_planes = planes * block.expansion\n",
        "        return nn.Sequential(*layers)\n",
        "\n",
        "    def forward(self, x):\n",
        "        out = self.conv1(x)\n",
        "        out = self.layer1(out)\n",
        "        out = self.layer2(out)\n",
        "        out = self.layer3(out)\n",
        "        out = self.layer4(out)\n",
        "        out = F.relu(self.bn(out))\n",
        "        out = F.avg_pool2d(out, 4)\n",
        "        out = out.view(out.size(0), -1)\n",
        "        out = self.linear(out)\n",
        "        return out\n",
        "\n",
        "\n",
        "def PreActResNet18(num_classes=10):\n",
        "    return PreActResNet(PreActBlock, [2, 2, 2, 2], num_classes)"
      ]
    },
    {
      "cell_type": "code",
      "source": [
        "hard_classes = [13,35,55,72,96,10,44,65,74,4]\n",
        "easy_classes = [8,9,20,87,94,21,41,39,53,68]\n",
        "\n",
        "hard_classes.index(55)"
      ],
      "metadata": {
        "id": "sDQsNJyNHikl",
        "colab": {
          "base_uri": "https://localhost:8080/"
        },
        "outputId": "07fe27d9-927a-47bb-a731-479cdd41da43"
      },
      "execution_count": 8,
      "outputs": [
        {
          "output_type": "execute_result",
          "data": {
            "text/plain": [
              "2"
            ]
          },
          "metadata": {},
          "execution_count": 8
        }
      ]
    },
    {
      "cell_type": "code",
      "source": [
        "X_all,y_all = train_dataset1.data, torch.LongTensor(train_dataset1.targets)\n",
        "X_all_sampled, y_all_sampled = [], []\n",
        "\n",
        "for c in torch.unique(y_all):\n",
        "    X_all_c, y_all_c = X_all[y_all==c], y_all[y_all==c]\n",
        "    \n",
        "    if c in hard_classes:\n",
        "        num_samples = len(X_all_c)\n",
        "        sampled_indices = torch.randperm(num_samples)\n",
        "        X_all_sampled.append(X_all_c[sampled_indices])\n",
        "        y_all_sampled.append(torch.LongTensor([hard_classes.index(c)]*num_samples))\n",
        "        \n",
        "    \n",
        "X_all_sampled = np.concatenate(X_all_sampled, axis=0)\n",
        "y_all_sampled = list(torch.cat(y_all_sampled, dim=0))\n",
        "\n",
        "print(X_all_sampled.shape)"
      ],
      "metadata": {
        "id": "ZGFULWIaE89a",
        "colab": {
          "base_uri": "https://localhost:8080/"
        },
        "outputId": "6fcbecd3-29f1-4a7e-f2a9-8369e6aa0b67"
      },
      "execution_count": 9,
      "outputs": [
        {
          "output_type": "stream",
          "name": "stdout",
          "text": [
            "(5000, 32, 32, 3)\n"
          ]
        }
      ]
    },
    {
      "cell_type": "code",
      "source": [
        "class Extra_Dataset(torch.utils.data.Dataset):\n",
        "\n",
        "  def __init__(self,x,y):\n",
        "    self.x = x.astype(np.float32)\n",
        "    self.y = y\n",
        "\n",
        "  def __len__(self):\n",
        "    return len(self.y)\n",
        "\n",
        "  def __getitem__(self,idx):\n",
        "    x = (self.x)[idx]\n",
        "    y = (self.y)[idx]\n",
        "    return x,y"
      ],
      "metadata": {
        "id": "-nhW89McW4mb"
      },
      "execution_count": 10,
      "outputs": []
    },
    {
      "cell_type": "code",
      "source": [
        "extra_dataset = Extra_Dataset(X_all_sampled.transpose(0,3,1,2),y_all_sampled)"
      ],
      "metadata": {
        "id": "eMtIXzvFXyJW"
      },
      "execution_count": 11,
      "outputs": []
    },
    {
      "cell_type": "code",
      "source": [
        "train_transform = test_transform = transforms.Compose([\n",
        "    transforms.ToTensor(),\n",
        "    transforms.Normalize([0.485, 0.456, 0.406], [0.229, 0.224, 0.225])\n",
        "    ])\n",
        "\n",
        "test_dataset = datasets.CIFAR100(\n",
        "        'cifar_base_test', train=False, transform=train_transform, download=True\n",
        "    )\n",
        "\n",
        "train_loader1 = torch.utils.data.DataLoader(\n",
        "    dataset=extra_dataset,\n",
        "    batch_size=32, shuffle=True,\n",
        "    pin_memory=True,drop_last=True\n",
        ")\n",
        "\n",
        "train_loader2 = torch.utils.data.DataLoader(\n",
        "    dataset=train_dataset2,\n",
        "    batch_size=32, shuffle=True,\n",
        "    pin_memory=True,drop_last=True\n",
        ")\n",
        "test_loader = torch.utils.data.DataLoader(\n",
        "    dataset=test_dataset,\n",
        "    batch_size=32, shuffle=True,\n",
        "    pin_memory=True,drop_last=True\n",
        ")"
      ],
      "metadata": {
        "colab": {
          "base_uri": "https://localhost:8080/"
        },
        "id": "VoNtbSvuH5c4",
        "outputId": "383cab0e-287c-4853-8781-50e623965505"
      },
      "execution_count": 12,
      "outputs": [
        {
          "output_type": "stream",
          "name": "stdout",
          "text": [
            "Files already downloaded and verified\n"
          ]
        }
      ]
    },
    {
      "cell_type": "code",
      "source": [
        "def unite_iters(*itrs):\n",
        "    for itr in itrs:\n",
        "        for v in itr:\n",
        "            yield v\n",
        "\n",
        "\n",
        "train_loader = unite_iters(train_loader1,train_loader2)"
      ],
      "metadata": {
        "id": "nBbcloFucvGQ"
      },
      "execution_count": 13,
      "outputs": []
    },
    {
      "cell_type": "code",
      "source": [
        "device = 'cuda' if torch.cuda.is_available() else 'cpu'\n",
        "print(device)\n",
        "\n",
        "weight_decay = 5e-4\n",
        "epsilon = 8\n",
        "batch_size = 32\n",
        "alpha = 2\n",
        "loss_weight = 0.1\n",
        "fgsm_step = 1\n",
        "delta_init = 'random'\n",
        "model = PreActResNet18(num_classes=100).to(device)\n",
        "model.train()\n",
        "\n",
        "optimizer = torch.optim.Adam(model.parameters(),lr=3e-4,weight_decay=weight_decay)\n",
        "scaler = torch.cuda.amp.GradScaler()\n",
        "criterion = nn.CrossEntropyLoss()\n",
        "\n",
        "data_mean = (0.5071, 0.4865, 0.4409)\n",
        "data_std = (0.2673, 0.2564, 0.2762)\n",
        "\n",
        "mu = torch.tensor(data_mean).view(3, 1, 1).to(device)\n",
        "std = torch.tensor(data_std).view(3, 1, 1).to(device)\n",
        "upper_limit = ((1 - mu) / std)\n",
        "lower_limit = ((0 - mu) / std)\n",
        "epsilon = (epsilon / 255.) / std\n",
        "alpha = (alpha / 255.) / std\n",
        "\n",
        "if delta_init == 'previous':\n",
        "    delta = torch.zeros(batch_size, 3, 32, 32).to(device)\n",
        "\n",
        "prev_robust_acc = 0."
      ],
      "metadata": {
        "id": "ya3GzA8-Uoih",
        "colab": {
          "base_uri": "https://localhost:8080/"
        },
        "outputId": "3bee287a-fce3-43d8-9e15-ec446e48e0f8"
      },
      "execution_count": 14,
      "outputs": [
        {
          "output_type": "stream",
          "name": "stdout",
          "text": [
            "cuda\n"
          ]
        }
      ]
    },
    {
      "cell_type": "code",
      "source": [
        "acc_train_history = []\n",
        "acc_pgd_val_history = []\n",
        "acc_st_val_history = []"
      ],
      "metadata": {
        "id": "B8WUB_yPdhBs"
      },
      "execution_count": 15,
      "outputs": []
    },
    {
      "cell_type": "code",
      "source": [
        "print(len(train_loader1)*32)\n",
        "print(len(train_loader2)*32)"
      ],
      "metadata": {
        "colab": {
          "base_uri": "https://localhost:8080/"
        },
        "id": "krq1XwYagFjQ",
        "outputId": "34721c81-d024-4e05-9900-61da63df4d71"
      },
      "execution_count": 16,
      "outputs": [
        {
          "output_type": "stream",
          "name": "stdout",
          "text": [
            "4992\n",
            "49984\n"
          ]
        }
      ]
    },
    {
      "cell_type": "code",
      "source": [
        "epochs = 20\n",
        "optimizer = torch.optim.Adam(model.parameters(),lr=3e-4,weight_decay=weight_decay)\n",
        "loop = tqdm(range(epochs))\n",
        "for epoch in loop:\n",
        "    train_loss,train_acc,train_n = 0,0,0\n",
        "    if epoch > 12:\n",
        "      optimizer.param_groups[0]['lr'] = 1e-4\n",
        "    model.train()\n",
        "    for train_loader in [train_loader1,train_loader2]:\n",
        "        for i, (X, y) in enumerate(train_loader):\n",
        "            optimizer.zero_grad()\n",
        "            X, y = X.to(device), y.to(device)\n",
        "            if delta_init != 'previous':\n",
        "                delta = torch.zeros_like(X).to(device)\n",
        "            if delta_init == 'random':\n",
        "                for j in range(len(epsilon)):\n",
        "                    delta[:, j, :, :].uniform_(-epsilon[j][0][0].item(), epsilon[j][0][0].item())\n",
        "                delta.data = clamp(delta, lower_limit - X, upper_limit - X)\n",
        "            if fgsm_step == 1:\n",
        "                delta.requires_grad = True\n",
        "                for _ in range(1):\n",
        "                    output = model(X + delta[:X.size(0)])\n",
        "                    loss = F.cross_entropy(output, y)\n",
        "                    scaler.scale(loss).backward()\n",
        "                    grad = delta.grad.detach()\n",
        "                    scaler.step(optimizer)\n",
        "                    scaler.update()\n",
        "                    delta.data = clamp(delta + alpha * torch.sign(grad), -epsilon, epsilon)\n",
        "                    delta.data[:X.size(0)] = clamp(delta[:X.size(0)], lower_limit - X, upper_limit - X)\n",
        "                delta = delta.detach()\n",
        "                output = model(X + delta[:X.size(0)])\n",
        "                loss = (1 - loss_weight) * criterion(output, y) + loss_weight * criterion(model(X), y)\n",
        "                scaler.scale(loss).backward()\n",
        "                scaler.step(optimizer)\n",
        "                scaler.update()\n",
        "                  \n",
        "            train_loss += loss.item() * y.size(0)\n",
        "            train_acc += (output.max(1)[1] == y).sum().item()\n",
        "            train_n += y.size(0)\n",
        "      \n",
        "    acc_train_history.append(train_acc/train_n)\n",
        "    model.eval()\n",
        "    pgd_loss, pgd_acc, acc_cl_pgd_at = evaluate_pgd(test_loader, model, 1, 5, epsilon, alpha, \n",
        "                                  lower_limit, upper_limit)\n",
        "    acc_pgd_val_history.append(pgd_acc)\n",
        "    st_loss, st_acc, acc_cl_st_at = evaluate_standard(test_loader, model)\n",
        "    acc_st_val_history.append(st_acc)\n",
        "      \n",
        "    loop.set_description(f'train acc: {round(train_acc / train_n,3)} test acc: {round(pgd_acc,3)}')"
      ],
      "metadata": {
        "colab": {
          "base_uri": "https://localhost:8080/"
        },
        "id": "9MiF9t4Col78",
        "outputId": "e274b322-1236-4a9a-a00e-3094a1d3ecf5"
      },
      "execution_count": 17,
      "outputs": [
        {
          "output_type": "stream",
          "name": "stderr",
          "text": [
            "train acc: 0.708 test acc: 0.318: 100%|██████████| 20/20 [1:18:52<00:00, 236.61s/it]\n"
          ]
        }
      ]
    },
    {
      "cell_type": "code",
      "source": [
        "print(acc_train_history)\n",
        "print(acc_pgd_val_history)\n",
        "print(acc_st_val_history)"
      ],
      "metadata": {
        "colab": {
          "base_uri": "https://localhost:8080/"
        },
        "id": "BPkYrUkX8jca",
        "outputId": "c15e31f3-8fce-4f83-dada-727f06cc2763"
      },
      "execution_count": 24,
      "outputs": [
        {
          "output_type": "stream",
          "name": "stdout",
          "text": [
            "[0.10140788707799767, 0.17620416181606519, 0.24068684516880093, 0.28257785215366704, 0.31802968568102447, 0.34040308498253785, 0.36277648428405124, 0.3780558789289872, 0.3945539871944121, 0.4082144935972061, 0.4206744761350407, 0.43400756693830034, 0.4435389988358556, 0.5515497671711292, 0.5939682770663562, 0.6254547438882422, 0.6509931606519208, 0.6724206926658906, 0.6941938300349243, 0.7075087310826542]\n",
            "[0.14873798076923078, 0.21264022435897437, 0.26953125, 0.30448717948717946, 0.33052884615384615, 0.33994391025641024, 0.3503605769230769, 0.3564703525641026, 0.3492588141025641, 0.3622796474358974, 0.3495592948717949, 0.3529647435897436, 0.35216346153846156, 0.3766025641025641, 0.36217948717948717, 0.35076121794871795, 0.33653846153846156, 0.3245192307692308, 0.323818108974359, 0.3184094551282051]\n",
            "[0.19571314102564102, 0.2920673076923077, 0.3864182692307692, 0.444911858974359, 0.48647836538461536, 0.5094150641025641, 0.5285456730769231, 0.5347556089743589, 0.5300480769230769, 0.5461738782051282, 0.5432692307692307, 0.5528846153846154, 0.5607972756410257, 0.6043669871794872, 0.6001602564102564, 0.5883413461538461, 0.5871394230769231, 0.5743189102564102, 0.5709134615384616, 0.5708133012820513]\n"
          ]
        }
      ]
    },
    {
      "cell_type": "code",
      "source": [
        "fig,axes = plt.subplots(1,3,figsize=(15,5))\n",
        "\n",
        "plt.suptitle('Accuracy')\n",
        "fig.supxlabel('epoch')\n",
        "fig.supylabel('accuracy')\n",
        "\n",
        "axes[0].plot(range(epochs),acc_train_history[-20:],label='train')\n",
        "axes[0].legend()\n",
        "axes[1].plot(range(epochs),acc_pgd_val_history[-20:],label='pgd_val')\n",
        "axes[1].legend()\n",
        "axes[2].plot(range(epochs),acc_st_val_history[-20:],label='standart_val')\n",
        "axes[2].legend()"
      ],
      "metadata": {
        "colab": {
          "base_uri": "https://localhost:8080/",
          "height": 397
        },
        "id": "443ugJk11aZS",
        "outputId": "f9b87d27-6e86-4ac6-8821-4acacb87bec0"
      },
      "execution_count": 27,
      "outputs": [
        {
          "output_type": "execute_result",
          "data": {
            "text/plain": [
              "<matplotlib.legend.Legend at 0x7f1020f9abb0>"
            ]
          },
          "metadata": {},
          "execution_count": 27
        },
        {
          "output_type": "display_data",
          "data": {
            "text/plain": [
              "<Figure size 1080x360 with 3 Axes>"
            ],
            "image/png": "[encoded data removed]"
          },
          "metadata": {
            "needs_background": "light"
          }
        }
      ]
    }
  ]
}